{
 "cells": [
  {
   "cell_type": "code",
   "execution_count": 1,
   "id": "30e261b5",
   "metadata": {},
   "outputs": [],
   "source": [
    "import pandas as pd\n",
    "import numpy as np"
   ]
  },
  {
   "cell_type": "code",
   "execution_count": 2,
   "id": "e9181aaa",
   "metadata": {},
   "outputs": [],
   "source": [
    "data = pd.read_csv(\"adult.data\")"
   ]
  },
  {
   "cell_type": "code",
   "execution_count": 3,
   "id": "777324b2",
   "metadata": {
    "scrolled": true
   },
   "outputs": [
    {
     "data": {
      "text/html": [
       "<div>\n",
       "<style scoped>\n",
       "    .dataframe tbody tr th:only-of-type {\n",
       "        vertical-align: middle;\n",
       "    }\n",
       "\n",
       "    .dataframe tbody tr th {\n",
       "        vertical-align: top;\n",
       "    }\n",
       "\n",
       "    .dataframe thead th {\n",
       "        text-align: right;\n",
       "    }\n",
       "</style>\n",
       "<table border=\"1\" class=\"dataframe\">\n",
       "  <thead>\n",
       "    <tr style=\"text-align: right;\">\n",
       "      <th></th>\n",
       "      <th>39</th>\n",
       "      <th>State-gov</th>\n",
       "      <th>77516</th>\n",
       "      <th>Bachelors</th>\n",
       "      <th>13</th>\n",
       "      <th>Never-married</th>\n",
       "      <th>Adm-clerical</th>\n",
       "      <th>Not-in-family</th>\n",
       "      <th>White</th>\n",
       "      <th>Male</th>\n",
       "      <th>2174</th>\n",
       "      <th>0</th>\n",
       "      <th>40</th>\n",
       "      <th>United-States</th>\n",
       "      <th>&lt;=50K</th>\n",
       "    </tr>\n",
       "  </thead>\n",
       "  <tbody>\n",
       "    <tr>\n",
       "      <th>0</th>\n",
       "      <td>50</td>\n",
       "      <td>Self-emp-not-inc</td>\n",
       "      <td>83311</td>\n",
       "      <td>Bachelors</td>\n",
       "      <td>13</td>\n",
       "      <td>Married-civ-spouse</td>\n",
       "      <td>Exec-managerial</td>\n",
       "      <td>Husband</td>\n",
       "      <td>White</td>\n",
       "      <td>Male</td>\n",
       "      <td>0</td>\n",
       "      <td>0</td>\n",
       "      <td>13</td>\n",
       "      <td>United-States</td>\n",
       "      <td>&lt;=50K</td>\n",
       "    </tr>\n",
       "    <tr>\n",
       "      <th>1</th>\n",
       "      <td>38</td>\n",
       "      <td>Private</td>\n",
       "      <td>215646</td>\n",
       "      <td>HS-grad</td>\n",
       "      <td>9</td>\n",
       "      <td>Divorced</td>\n",
       "      <td>Handlers-cleaners</td>\n",
       "      <td>Not-in-family</td>\n",
       "      <td>White</td>\n",
       "      <td>Male</td>\n",
       "      <td>0</td>\n",
       "      <td>0</td>\n",
       "      <td>40</td>\n",
       "      <td>United-States</td>\n",
       "      <td>&lt;=50K</td>\n",
       "    </tr>\n",
       "    <tr>\n",
       "      <th>2</th>\n",
       "      <td>53</td>\n",
       "      <td>Private</td>\n",
       "      <td>234721</td>\n",
       "      <td>11th</td>\n",
       "      <td>7</td>\n",
       "      <td>Married-civ-spouse</td>\n",
       "      <td>Handlers-cleaners</td>\n",
       "      <td>Husband</td>\n",
       "      <td>Black</td>\n",
       "      <td>Male</td>\n",
       "      <td>0</td>\n",
       "      <td>0</td>\n",
       "      <td>40</td>\n",
       "      <td>United-States</td>\n",
       "      <td>&lt;=50K</td>\n",
       "    </tr>\n",
       "    <tr>\n",
       "      <th>3</th>\n",
       "      <td>28</td>\n",
       "      <td>Private</td>\n",
       "      <td>338409</td>\n",
       "      <td>Bachelors</td>\n",
       "      <td>13</td>\n",
       "      <td>Married-civ-spouse</td>\n",
       "      <td>Prof-specialty</td>\n",
       "      <td>Wife</td>\n",
       "      <td>Black</td>\n",
       "      <td>Female</td>\n",
       "      <td>0</td>\n",
       "      <td>0</td>\n",
       "      <td>40</td>\n",
       "      <td>Cuba</td>\n",
       "      <td>&lt;=50K</td>\n",
       "    </tr>\n",
       "    <tr>\n",
       "      <th>4</th>\n",
       "      <td>37</td>\n",
       "      <td>Private</td>\n",
       "      <td>284582</td>\n",
       "      <td>Masters</td>\n",
       "      <td>14</td>\n",
       "      <td>Married-civ-spouse</td>\n",
       "      <td>Exec-managerial</td>\n",
       "      <td>Wife</td>\n",
       "      <td>White</td>\n",
       "      <td>Female</td>\n",
       "      <td>0</td>\n",
       "      <td>0</td>\n",
       "      <td>40</td>\n",
       "      <td>United-States</td>\n",
       "      <td>&lt;=50K</td>\n",
       "    </tr>\n",
       "  </tbody>\n",
       "</table>\n",
       "</div>"
      ],
      "text/plain": [
       "   39          State-gov   77516   Bachelors   13        Never-married  \\\n",
       "0  50   Self-emp-not-inc   83311   Bachelors   13   Married-civ-spouse   \n",
       "1  38            Private  215646     HS-grad    9             Divorced   \n",
       "2  53            Private  234721        11th    7   Married-civ-spouse   \n",
       "3  28            Private  338409   Bachelors   13   Married-civ-spouse   \n",
       "4  37            Private  284582     Masters   14   Married-civ-spouse   \n",
       "\n",
       "         Adm-clerical   Not-in-family   White     Male   2174   0   40  \\\n",
       "0     Exec-managerial         Husband   White     Male      0   0   13   \n",
       "1   Handlers-cleaners   Not-in-family   White     Male      0   0   40   \n",
       "2   Handlers-cleaners         Husband   Black     Male      0   0   40   \n",
       "3      Prof-specialty            Wife   Black   Female      0   0   40   \n",
       "4     Exec-managerial            Wife   White   Female      0   0   40   \n",
       "\n",
       "    United-States   <=50K  \n",
       "0   United-States   <=50K  \n",
       "1   United-States   <=50K  \n",
       "2   United-States   <=50K  \n",
       "3            Cuba   <=50K  \n",
       "4   United-States   <=50K  "
      ]
     },
     "execution_count": 3,
     "metadata": {},
     "output_type": "execute_result"
    }
   ],
   "source": [
    "data.head()"
   ]
  },
  {
   "cell_type": "code",
   "execution_count": null,
   "id": "69d06cd4",
   "metadata": {},
   "outputs": [],
   "source": []
  },
  {
   "cell_type": "code",
   "execution_count": 4,
   "id": "e7d7dcda",
   "metadata": {},
   "outputs": [],
   "source": [
    "\n",
    "columns = [\n",
    "    'age', 'workclass', 'fnlwgt', 'education', 'education_num', 'marital_status', 'occupation', 'relationship',\n",
    "    'race', 'gender', 'capital_gain', 'capital_loss', 'hours_per_week', 'native_country', 'income']\n",
    "\n",
    "df = pd.DataFrame(data, columns=columns)\n"
   ]
  },
  {
   "cell_type": "code",
   "execution_count": 5,
   "id": "a096fea1",
   "metadata": {},
   "outputs": [
    {
     "data": {
      "text/html": [
       "<div>\n",
       "<style scoped>\n",
       "    .dataframe tbody tr th:only-of-type {\n",
       "        vertical-align: middle;\n",
       "    }\n",
       "\n",
       "    .dataframe tbody tr th {\n",
       "        vertical-align: top;\n",
       "    }\n",
       "\n",
       "    .dataframe thead th {\n",
       "        text-align: right;\n",
       "    }\n",
       "</style>\n",
       "<table border=\"1\" class=\"dataframe\">\n",
       "  <thead>\n",
       "    <tr style=\"text-align: right;\">\n",
       "      <th></th>\n",
       "      <th>age</th>\n",
       "      <th>workclass</th>\n",
       "      <th>fnlwgt</th>\n",
       "      <th>education</th>\n",
       "      <th>education_num</th>\n",
       "      <th>marital_status</th>\n",
       "      <th>occupation</th>\n",
       "      <th>relationship</th>\n",
       "      <th>race</th>\n",
       "      <th>gender</th>\n",
       "      <th>capital_gain</th>\n",
       "      <th>capital_loss</th>\n",
       "      <th>hours_per_week</th>\n",
       "      <th>native_country</th>\n",
       "      <th>income</th>\n",
       "    </tr>\n",
       "  </thead>\n",
       "  <tbody>\n",
       "    <tr>\n",
       "      <th>0</th>\n",
       "      <td>NaN</td>\n",
       "      <td>NaN</td>\n",
       "      <td>NaN</td>\n",
       "      <td>NaN</td>\n",
       "      <td>NaN</td>\n",
       "      <td>NaN</td>\n",
       "      <td>NaN</td>\n",
       "      <td>NaN</td>\n",
       "      <td>NaN</td>\n",
       "      <td>NaN</td>\n",
       "      <td>NaN</td>\n",
       "      <td>NaN</td>\n",
       "      <td>NaN</td>\n",
       "      <td>NaN</td>\n",
       "      <td>NaN</td>\n",
       "    </tr>\n",
       "    <tr>\n",
       "      <th>1</th>\n",
       "      <td>NaN</td>\n",
       "      <td>NaN</td>\n",
       "      <td>NaN</td>\n",
       "      <td>NaN</td>\n",
       "      <td>NaN</td>\n",
       "      <td>NaN</td>\n",
       "      <td>NaN</td>\n",
       "      <td>NaN</td>\n",
       "      <td>NaN</td>\n",
       "      <td>NaN</td>\n",
       "      <td>NaN</td>\n",
       "      <td>NaN</td>\n",
       "      <td>NaN</td>\n",
       "      <td>NaN</td>\n",
       "      <td>NaN</td>\n",
       "    </tr>\n",
       "    <tr>\n",
       "      <th>2</th>\n",
       "      <td>NaN</td>\n",
       "      <td>NaN</td>\n",
       "      <td>NaN</td>\n",
       "      <td>NaN</td>\n",
       "      <td>NaN</td>\n",
       "      <td>NaN</td>\n",
       "      <td>NaN</td>\n",
       "      <td>NaN</td>\n",
       "      <td>NaN</td>\n",
       "      <td>NaN</td>\n",
       "      <td>NaN</td>\n",
       "      <td>NaN</td>\n",
       "      <td>NaN</td>\n",
       "      <td>NaN</td>\n",
       "      <td>NaN</td>\n",
       "    </tr>\n",
       "    <tr>\n",
       "      <th>3</th>\n",
       "      <td>NaN</td>\n",
       "      <td>NaN</td>\n",
       "      <td>NaN</td>\n",
       "      <td>NaN</td>\n",
       "      <td>NaN</td>\n",
       "      <td>NaN</td>\n",
       "      <td>NaN</td>\n",
       "      <td>NaN</td>\n",
       "      <td>NaN</td>\n",
       "      <td>NaN</td>\n",
       "      <td>NaN</td>\n",
       "      <td>NaN</td>\n",
       "      <td>NaN</td>\n",
       "      <td>NaN</td>\n",
       "      <td>NaN</td>\n",
       "    </tr>\n",
       "    <tr>\n",
       "      <th>4</th>\n",
       "      <td>NaN</td>\n",
       "      <td>NaN</td>\n",
       "      <td>NaN</td>\n",
       "      <td>NaN</td>\n",
       "      <td>NaN</td>\n",
       "      <td>NaN</td>\n",
       "      <td>NaN</td>\n",
       "      <td>NaN</td>\n",
       "      <td>NaN</td>\n",
       "      <td>NaN</td>\n",
       "      <td>NaN</td>\n",
       "      <td>NaN</td>\n",
       "      <td>NaN</td>\n",
       "      <td>NaN</td>\n",
       "      <td>NaN</td>\n",
       "    </tr>\n",
       "  </tbody>\n",
       "</table>\n",
       "</div>"
      ],
      "text/plain": [
       "   age  workclass  fnlwgt  education  education_num  marital_status  \\\n",
       "0  NaN        NaN     NaN        NaN            NaN             NaN   \n",
       "1  NaN        NaN     NaN        NaN            NaN             NaN   \n",
       "2  NaN        NaN     NaN        NaN            NaN             NaN   \n",
       "3  NaN        NaN     NaN        NaN            NaN             NaN   \n",
       "4  NaN        NaN     NaN        NaN            NaN             NaN   \n",
       "\n",
       "   occupation  relationship  race  gender  capital_gain  capital_loss  \\\n",
       "0         NaN           NaN   NaN     NaN           NaN           NaN   \n",
       "1         NaN           NaN   NaN     NaN           NaN           NaN   \n",
       "2         NaN           NaN   NaN     NaN           NaN           NaN   \n",
       "3         NaN           NaN   NaN     NaN           NaN           NaN   \n",
       "4         NaN           NaN   NaN     NaN           NaN           NaN   \n",
       "\n",
       "   hours_per_week  native_country  income  \n",
       "0             NaN             NaN     NaN  \n",
       "1             NaN             NaN     NaN  \n",
       "2             NaN             NaN     NaN  \n",
       "3             NaN             NaN     NaN  \n",
       "4             NaN             NaN     NaN  "
      ]
     },
     "execution_count": 5,
     "metadata": {},
     "output_type": "execute_result"
    }
   ],
   "source": [
    "df.head()"
   ]
  },
  {
   "cell_type": "code",
   "execution_count": 6,
   "id": "0c7b2157",
   "metadata": {},
   "outputs": [],
   "source": [
    "df = pd.read_csv(\"adult.data\", delimiter=',', header=None, names=columns)\n"
   ]
  },
  {
   "cell_type": "code",
   "execution_count": 7,
   "id": "0dbe308b",
   "metadata": {},
   "outputs": [
    {
     "data": {
      "text/plain": [
       "(32561, 15)"
      ]
     },
     "execution_count": 7,
     "metadata": {},
     "output_type": "execute_result"
    }
   ],
   "source": [
    "df.shape"
   ]
  },
  {
   "cell_type": "code",
   "execution_count": 8,
   "id": "19dfd45d",
   "metadata": {},
   "outputs": [],
   "source": [
    "# Temporarily set the option to display all rows\n",
    "pd.set_option('display.max_rows', None)\n",
    "\n",
    "# Display all rows in the DataFrame\n",
    "df\n",
    "\n",
    "# Reset the option to its default value (to avoid long output for subsequent dataframes)\n",
    "pd.reset_option('display.max_rows')"
   ]
  },
  {
   "cell_type": "code",
   "execution_count": 9,
   "id": "34b9f6db",
   "metadata": {},
   "outputs": [
    {
     "data": {
      "text/html": [
       "<div>\n",
       "<style scoped>\n",
       "    .dataframe tbody tr th:only-of-type {\n",
       "        vertical-align: middle;\n",
       "    }\n",
       "\n",
       "    .dataframe tbody tr th {\n",
       "        vertical-align: top;\n",
       "    }\n",
       "\n",
       "    .dataframe thead th {\n",
       "        text-align: right;\n",
       "    }\n",
       "</style>\n",
       "<table border=\"1\" class=\"dataframe\">\n",
       "  <thead>\n",
       "    <tr style=\"text-align: right;\">\n",
       "      <th></th>\n",
       "      <th>age</th>\n",
       "      <th>workclass</th>\n",
       "      <th>fnlwgt</th>\n",
       "      <th>education</th>\n",
       "      <th>education_num</th>\n",
       "      <th>marital_status</th>\n",
       "      <th>occupation</th>\n",
       "      <th>relationship</th>\n",
       "      <th>race</th>\n",
       "      <th>gender</th>\n",
       "      <th>capital_gain</th>\n",
       "      <th>capital_loss</th>\n",
       "      <th>hours_per_week</th>\n",
       "      <th>native_country</th>\n",
       "      <th>income</th>\n",
       "    </tr>\n",
       "  </thead>\n",
       "  <tbody>\n",
       "    <tr>\n",
       "      <th>0</th>\n",
       "      <td>39</td>\n",
       "      <td>State-gov</td>\n",
       "      <td>77516</td>\n",
       "      <td>Bachelors</td>\n",
       "      <td>13</td>\n",
       "      <td>Never-married</td>\n",
       "      <td>Adm-clerical</td>\n",
       "      <td>Not-in-family</td>\n",
       "      <td>White</td>\n",
       "      <td>Male</td>\n",
       "      <td>2174</td>\n",
       "      <td>0</td>\n",
       "      <td>40</td>\n",
       "      <td>United-States</td>\n",
       "      <td>&lt;=50K</td>\n",
       "    </tr>\n",
       "    <tr>\n",
       "      <th>1</th>\n",
       "      <td>50</td>\n",
       "      <td>Self-emp-not-inc</td>\n",
       "      <td>83311</td>\n",
       "      <td>Bachelors</td>\n",
       "      <td>13</td>\n",
       "      <td>Married-civ-spouse</td>\n",
       "      <td>Exec-managerial</td>\n",
       "      <td>Husband</td>\n",
       "      <td>White</td>\n",
       "      <td>Male</td>\n",
       "      <td>0</td>\n",
       "      <td>0</td>\n",
       "      <td>13</td>\n",
       "      <td>United-States</td>\n",
       "      <td>&lt;=50K</td>\n",
       "    </tr>\n",
       "    <tr>\n",
       "      <th>2</th>\n",
       "      <td>38</td>\n",
       "      <td>Private</td>\n",
       "      <td>215646</td>\n",
       "      <td>HS-grad</td>\n",
       "      <td>9</td>\n",
       "      <td>Divorced</td>\n",
       "      <td>Handlers-cleaners</td>\n",
       "      <td>Not-in-family</td>\n",
       "      <td>White</td>\n",
       "      <td>Male</td>\n",
       "      <td>0</td>\n",
       "      <td>0</td>\n",
       "      <td>40</td>\n",
       "      <td>United-States</td>\n",
       "      <td>&lt;=50K</td>\n",
       "    </tr>\n",
       "    <tr>\n",
       "      <th>3</th>\n",
       "      <td>53</td>\n",
       "      <td>Private</td>\n",
       "      <td>234721</td>\n",
       "      <td>11th</td>\n",
       "      <td>7</td>\n",
       "      <td>Married-civ-spouse</td>\n",
       "      <td>Handlers-cleaners</td>\n",
       "      <td>Husband</td>\n",
       "      <td>Black</td>\n",
       "      <td>Male</td>\n",
       "      <td>0</td>\n",
       "      <td>0</td>\n",
       "      <td>40</td>\n",
       "      <td>United-States</td>\n",
       "      <td>&lt;=50K</td>\n",
       "    </tr>\n",
       "    <tr>\n",
       "      <th>4</th>\n",
       "      <td>28</td>\n",
       "      <td>Private</td>\n",
       "      <td>338409</td>\n",
       "      <td>Bachelors</td>\n",
       "      <td>13</td>\n",
       "      <td>Married-civ-spouse</td>\n",
       "      <td>Prof-specialty</td>\n",
       "      <td>Wife</td>\n",
       "      <td>Black</td>\n",
       "      <td>Female</td>\n",
       "      <td>0</td>\n",
       "      <td>0</td>\n",
       "      <td>40</td>\n",
       "      <td>Cuba</td>\n",
       "      <td>&lt;=50K</td>\n",
       "    </tr>\n",
       "    <tr>\n",
       "      <th>...</th>\n",
       "      <td>...</td>\n",
       "      <td>...</td>\n",
       "      <td>...</td>\n",
       "      <td>...</td>\n",
       "      <td>...</td>\n",
       "      <td>...</td>\n",
       "      <td>...</td>\n",
       "      <td>...</td>\n",
       "      <td>...</td>\n",
       "      <td>...</td>\n",
       "      <td>...</td>\n",
       "      <td>...</td>\n",
       "      <td>...</td>\n",
       "      <td>...</td>\n",
       "      <td>...</td>\n",
       "    </tr>\n",
       "    <tr>\n",
       "      <th>32556</th>\n",
       "      <td>27</td>\n",
       "      <td>Private</td>\n",
       "      <td>257302</td>\n",
       "      <td>Assoc-acdm</td>\n",
       "      <td>12</td>\n",
       "      <td>Married-civ-spouse</td>\n",
       "      <td>Tech-support</td>\n",
       "      <td>Wife</td>\n",
       "      <td>White</td>\n",
       "      <td>Female</td>\n",
       "      <td>0</td>\n",
       "      <td>0</td>\n",
       "      <td>38</td>\n",
       "      <td>United-States</td>\n",
       "      <td>&lt;=50K</td>\n",
       "    </tr>\n",
       "    <tr>\n",
       "      <th>32557</th>\n",
       "      <td>40</td>\n",
       "      <td>Private</td>\n",
       "      <td>154374</td>\n",
       "      <td>HS-grad</td>\n",
       "      <td>9</td>\n",
       "      <td>Married-civ-spouse</td>\n",
       "      <td>Machine-op-inspct</td>\n",
       "      <td>Husband</td>\n",
       "      <td>White</td>\n",
       "      <td>Male</td>\n",
       "      <td>0</td>\n",
       "      <td>0</td>\n",
       "      <td>40</td>\n",
       "      <td>United-States</td>\n",
       "      <td>&gt;50K</td>\n",
       "    </tr>\n",
       "    <tr>\n",
       "      <th>32558</th>\n",
       "      <td>58</td>\n",
       "      <td>Private</td>\n",
       "      <td>151910</td>\n",
       "      <td>HS-grad</td>\n",
       "      <td>9</td>\n",
       "      <td>Widowed</td>\n",
       "      <td>Adm-clerical</td>\n",
       "      <td>Unmarried</td>\n",
       "      <td>White</td>\n",
       "      <td>Female</td>\n",
       "      <td>0</td>\n",
       "      <td>0</td>\n",
       "      <td>40</td>\n",
       "      <td>United-States</td>\n",
       "      <td>&lt;=50K</td>\n",
       "    </tr>\n",
       "    <tr>\n",
       "      <th>32559</th>\n",
       "      <td>22</td>\n",
       "      <td>Private</td>\n",
       "      <td>201490</td>\n",
       "      <td>HS-grad</td>\n",
       "      <td>9</td>\n",
       "      <td>Never-married</td>\n",
       "      <td>Adm-clerical</td>\n",
       "      <td>Own-child</td>\n",
       "      <td>White</td>\n",
       "      <td>Male</td>\n",
       "      <td>0</td>\n",
       "      <td>0</td>\n",
       "      <td>20</td>\n",
       "      <td>United-States</td>\n",
       "      <td>&lt;=50K</td>\n",
       "    </tr>\n",
       "    <tr>\n",
       "      <th>32560</th>\n",
       "      <td>52</td>\n",
       "      <td>Self-emp-inc</td>\n",
       "      <td>287927</td>\n",
       "      <td>HS-grad</td>\n",
       "      <td>9</td>\n",
       "      <td>Married-civ-spouse</td>\n",
       "      <td>Exec-managerial</td>\n",
       "      <td>Wife</td>\n",
       "      <td>White</td>\n",
       "      <td>Female</td>\n",
       "      <td>15024</td>\n",
       "      <td>0</td>\n",
       "      <td>40</td>\n",
       "      <td>United-States</td>\n",
       "      <td>&gt;50K</td>\n",
       "    </tr>\n",
       "  </tbody>\n",
       "</table>\n",
       "<p>32561 rows × 15 columns</p>\n",
       "</div>"
      ],
      "text/plain": [
       "       age          workclass  fnlwgt    education  education_num  \\\n",
       "0       39          State-gov   77516    Bachelors             13   \n",
       "1       50   Self-emp-not-inc   83311    Bachelors             13   \n",
       "2       38            Private  215646      HS-grad              9   \n",
       "3       53            Private  234721         11th              7   \n",
       "4       28            Private  338409    Bachelors             13   \n",
       "...    ...                ...     ...          ...            ...   \n",
       "32556   27            Private  257302   Assoc-acdm             12   \n",
       "32557   40            Private  154374      HS-grad              9   \n",
       "32558   58            Private  151910      HS-grad              9   \n",
       "32559   22            Private  201490      HS-grad              9   \n",
       "32560   52       Self-emp-inc  287927      HS-grad              9   \n",
       "\n",
       "            marital_status          occupation    relationship    race  \\\n",
       "0            Never-married        Adm-clerical   Not-in-family   White   \n",
       "1       Married-civ-spouse     Exec-managerial         Husband   White   \n",
       "2                 Divorced   Handlers-cleaners   Not-in-family   White   \n",
       "3       Married-civ-spouse   Handlers-cleaners         Husband   Black   \n",
       "4       Married-civ-spouse      Prof-specialty            Wife   Black   \n",
       "...                    ...                 ...             ...     ...   \n",
       "32556   Married-civ-spouse        Tech-support            Wife   White   \n",
       "32557   Married-civ-spouse   Machine-op-inspct         Husband   White   \n",
       "32558              Widowed        Adm-clerical       Unmarried   White   \n",
       "32559        Never-married        Adm-clerical       Own-child   White   \n",
       "32560   Married-civ-spouse     Exec-managerial            Wife   White   \n",
       "\n",
       "        gender  capital_gain  capital_loss  hours_per_week  native_country  \\\n",
       "0         Male          2174             0              40   United-States   \n",
       "1         Male             0             0              13   United-States   \n",
       "2         Male             0             0              40   United-States   \n",
       "3         Male             0             0              40   United-States   \n",
       "4       Female             0             0              40            Cuba   \n",
       "...        ...           ...           ...             ...             ...   \n",
       "32556   Female             0             0              38   United-States   \n",
       "32557     Male             0             0              40   United-States   \n",
       "32558   Female             0             0              40   United-States   \n",
       "32559     Male             0             0              20   United-States   \n",
       "32560   Female         15024             0              40   United-States   \n",
       "\n",
       "       income  \n",
       "0       <=50K  \n",
       "1       <=50K  \n",
       "2       <=50K  \n",
       "3       <=50K  \n",
       "4       <=50K  \n",
       "...       ...  \n",
       "32556   <=50K  \n",
       "32557    >50K  \n",
       "32558   <=50K  \n",
       "32559   <=50K  \n",
       "32560    >50K  \n",
       "\n",
       "[32561 rows x 15 columns]"
      ]
     },
     "execution_count": 9,
     "metadata": {},
     "output_type": "execute_result"
    }
   ],
   "source": [
    "df"
   ]
  },
  {
   "cell_type": "code",
   "execution_count": 10,
   "id": "551a7576",
   "metadata": {},
   "outputs": [
    {
     "name": "stdout",
     "output_type": "stream",
     "text": [
      "Column 'age' has 73 unique values:\n",
      "[39 50 38 53 28 37 49 52 31 42 30 23 32 40 34 25 43 54 35 59 56 19 20 45\n",
      " 22 48 21 24 57 44 41 29 18 47 46 36 79 27 67 33 76 17 55 61 70 64 71 68\n",
      " 66 51 58 26 60 90 75 65 77 62 63 80 72 74 69 73 81 78 88 82 83 84 85 86\n",
      " 87]\n",
      "\n",
      "Column 'workclass' has 9 unique values:\n",
      "[' State-gov' ' Self-emp-not-inc' ' Private' ' Federal-gov' ' Local-gov'\n",
      " ' ?' ' Self-emp-inc' ' Without-pay' ' Never-worked']\n",
      "\n",
      "Column 'fnlwgt' has 21648 unique values:\n",
      "[ 77516  83311 215646 ...  34066  84661 257302]\n",
      "\n",
      "Column 'education' has 16 unique values:\n",
      "[' Bachelors' ' HS-grad' ' 11th' ' Masters' ' 9th' ' Some-college'\n",
      " ' Assoc-acdm' ' Assoc-voc' ' 7th-8th' ' Doctorate' ' Prof-school'\n",
      " ' 5th-6th' ' 10th' ' 1st-4th' ' Preschool' ' 12th']\n",
      "\n",
      "Column 'education_num' has 16 unique values:\n",
      "[13  9  7 14  5 10 12 11  4 16 15  3  6  2  1  8]\n",
      "\n",
      "Column 'marital_status' has 7 unique values:\n",
      "[' Never-married' ' Married-civ-spouse' ' Divorced'\n",
      " ' Married-spouse-absent' ' Separated' ' Married-AF-spouse' ' Widowed']\n",
      "\n",
      "Column 'occupation' has 15 unique values:\n",
      "[' Adm-clerical' ' Exec-managerial' ' Handlers-cleaners' ' Prof-specialty'\n",
      " ' Other-service' ' Sales' ' Craft-repair' ' Transport-moving'\n",
      " ' Farming-fishing' ' Machine-op-inspct' ' Tech-support' ' ?'\n",
      " ' Protective-serv' ' Armed-Forces' ' Priv-house-serv']\n",
      "\n",
      "Column 'relationship' has 6 unique values:\n",
      "[' Not-in-family' ' Husband' ' Wife' ' Own-child' ' Unmarried'\n",
      " ' Other-relative']\n",
      "\n",
      "Column 'race' has 5 unique values:\n",
      "[' White' ' Black' ' Asian-Pac-Islander' ' Amer-Indian-Eskimo' ' Other']\n",
      "\n",
      "Column 'gender' has 2 unique values:\n",
      "[' Male' ' Female']\n",
      "\n",
      "Column 'capital_gain' has 119 unique values:\n",
      "[ 2174     0 14084  5178  5013  2407 14344 15024  7688 34095  4064  4386\n",
      "  7298  1409  3674  1055  3464  2050  2176   594 20051  6849  4101  1111\n",
      "  8614  3411  2597 25236  4650  9386  2463  3103 10605  2964  3325  2580\n",
      "  3471  4865 99999  6514  1471  2329  2105  2885 25124 10520  2202  2961\n",
      " 27828  6767  2228  1506 13550  2635  5556  4787  3781  3137  3818  3942\n",
      "   914   401  2829  2977  4934  2062  2354  5455 15020  1424  3273 22040\n",
      "  4416  3908 10566   991  4931  1086  7430  6497   114  7896  2346  3418\n",
      "  3432  2907  1151  2414  2290 15831 41310  4508  2538  3456  6418  1848\n",
      "  3887  5721  9562  1455  2036  1831 11678  2936  2993  7443  6360  1797\n",
      "  1173  4687  6723  2009  6097  2653  1639 18481  7978  2387  5060]\n",
      "\n",
      "Column 'capital_loss' has 92 unique values:\n",
      "[   0 2042 1408 1902 1573 1887 1719 1762 1564 2179 1816 1980 1977 1876\n",
      " 1340 2206 1741 1485 2339 2415 1380 1721 2051 2377 1669 2352 1672  653\n",
      " 2392 1504 2001 1590 1651 1628 1848 1740 2002 1579 2258 1602  419 2547\n",
      " 2174 2205 1726 2444 1138 2238  625  213 1539  880 1668 1092 1594 3004\n",
      " 2231 1844  810 2824 2559 2057 1974  974 2149 1825 1735 1258 2129 2603\n",
      " 2282  323 4356 2246 1617 1648 2489 3770 1755 3683 2267 2080 2457  155\n",
      " 3900 2201 1944 2467 2163 2754 2472 1411]\n",
      "\n",
      "Column 'hours_per_week' has 94 unique values:\n",
      "[40 13 16 45 50 80 30 35 60 20 52 44 15 25 38 43 55 48 58 32 70  2 22 56\n",
      " 41 28 36 24 46 42 12 65  1 10 34 75 98 33 54  8  6 64 19 18 72  5  9 47\n",
      " 37 21 26 14  4 59  7 99 53 39 62 57 78 90 66 11 49 84  3 17 68 27 85 31\n",
      " 51 77 63 23 87 88 73 89 97 94 29 96 67 82 86 91 81 76 92 61 74 95]\n",
      "\n",
      "Column 'native_country' has 42 unique values:\n",
      "[' United-States' ' Cuba' ' Jamaica' ' India' ' ?' ' Mexico' ' South'\n",
      " ' Puerto-Rico' ' Honduras' ' England' ' Canada' ' Germany' ' Iran'\n",
      " ' Philippines' ' Italy' ' Poland' ' Columbia' ' Cambodia' ' Thailand'\n",
      " ' Ecuador' ' Laos' ' Taiwan' ' Haiti' ' Portugal' ' Dominican-Republic'\n",
      " ' El-Salvador' ' France' ' Guatemala' ' China' ' Japan' ' Yugoslavia'\n",
      " ' Peru' ' Outlying-US(Guam-USVI-etc)' ' Scotland' ' Trinadad&Tobago'\n",
      " ' Greece' ' Nicaragua' ' Vietnam' ' Hong' ' Ireland' ' Hungary'\n",
      " ' Holand-Netherlands']\n",
      "\n",
      "Column 'income' has 2 unique values:\n",
      "[' <=50K' ' >50K']\n",
      "\n"
     ]
    }
   ],
   "source": [
    "for column in df.columns:\n",
    "    unique_values = df[column].unique()\n",
    "    print(f\"Column '{column}' has {len(unique_values)} unique values:\")\n",
    "    print(unique_values)\n",
    "    print()"
   ]
  },
  {
   "cell_type": "markdown",
   "id": "2281dee1",
   "metadata": {},
   "source": [
    "# While checking for Unique values there were some '?' which doesnt serve any purpose "
   ]
  },
  {
   "cell_type": "code",
   "execution_count": 11,
   "id": "f400ff5e",
   "metadata": {},
   "outputs": [],
   "source": [
    "df = df[df['native_country'] != ' ?']\n",
    "df = df[df['workclass'] != ' ?']\n",
    "df = df[df['occupation'] != ' ?']"
   ]
  },
  {
   "cell_type": "code",
   "execution_count": 12,
   "id": "7e6f215c",
   "metadata": {
    "scrolled": true
   },
   "outputs": [
    {
     "name": "stdout",
     "output_type": "stream",
     "text": [
      "Column 'age' has 72 unique values:\n",
      "[39 50 38 53 28 37 49 52 31 42 30 23 32 34 25 43 40 54 35 59 56 19 20 45\n",
      " 22 48 21 24 57 44 41 29 47 46 36 79 27 18 33 76 55 61 70 64 71 66 51 58\n",
      " 26 17 60 90 75 65 77 62 63 67 74 72 69 68 73 81 78 88 80 84 83 85 82 86]\n",
      "\n",
      "Column 'workclass' has 7 unique values:\n",
      "[' State-gov' ' Self-emp-not-inc' ' Private' ' Federal-gov' ' Local-gov'\n",
      " ' Self-emp-inc' ' Without-pay']\n",
      "\n",
      "Column 'fnlwgt' has 20263 unique values:\n",
      "[ 77516  83311 215646 ...  84661 257302 201490]\n",
      "\n",
      "Column 'education' has 16 unique values:\n",
      "[' Bachelors' ' HS-grad' ' 11th' ' Masters' ' 9th' ' Some-college'\n",
      " ' Assoc-acdm' ' 7th-8th' ' Doctorate' ' Assoc-voc' ' Prof-school'\n",
      " ' 5th-6th' ' 10th' ' Preschool' ' 12th' ' 1st-4th']\n",
      "\n",
      "Column 'education_num' has 16 unique values:\n",
      "[13  9  7 14  5 10 12  4 16 11 15  3  6  1  8  2]\n",
      "\n",
      "Column 'marital_status' has 7 unique values:\n",
      "[' Never-married' ' Married-civ-spouse' ' Divorced'\n",
      " ' Married-spouse-absent' ' Separated' ' Married-AF-spouse' ' Widowed']\n",
      "\n",
      "Column 'occupation' has 14 unique values:\n",
      "[' Adm-clerical' ' Exec-managerial' ' Handlers-cleaners' ' Prof-specialty'\n",
      " ' Other-service' ' Sales' ' Transport-moving' ' Farming-fishing'\n",
      " ' Machine-op-inspct' ' Tech-support' ' Craft-repair' ' Protective-serv'\n",
      " ' Armed-Forces' ' Priv-house-serv']\n",
      "\n",
      "Column 'relationship' has 6 unique values:\n",
      "[' Not-in-family' ' Husband' ' Wife' ' Own-child' ' Unmarried'\n",
      " ' Other-relative']\n",
      "\n",
      "Column 'race' has 5 unique values:\n",
      "[' White' ' Black' ' Asian-Pac-Islander' ' Amer-Indian-Eskimo' ' Other']\n",
      "\n",
      "Column 'gender' has 2 unique values:\n",
      "[' Male' ' Female']\n",
      "\n",
      "Column 'capital_gain' has 118 unique values:\n",
      "[ 2174     0 14084  5178  5013  2407 14344 15024  7688  4064  4386  7298\n",
      "  1409  3674  1055  2050  2176   594 20051  6849  4101  8614  3411  2597\n",
      " 25236  4650  2463  3103 10605  2964  3325  2580  3471  4865 99999  6514\n",
      "  1471  2329  2105  2885 10520  2202  2961 27828  6767  2228  1506 13550\n",
      "  2635  5556  4787  3781  3137  3818   914   401  2829  2977  4934  2062\n",
      "  2354  3464  5455 15020  1424  3273 22040  4416 10566  4931  7430 34095\n",
      "  6497  3908   114  2346  2907  1151  9386  2414  2290  3418 15831 41310\n",
      "  4508  2538  3456  1848  3887  7896  5721  9562  6418  1455  2036  3942\n",
      "  1831 11678  2936  2993  7443  6360  4687  1797  6723  2009  3432  6097\n",
      "  1639  2653 18481 25124  7978   991  1173  2387  5060  1086]\n",
      "\n",
      "Column 'capital_loss' has 90 unique values:\n",
      "[   0 2042 1408 1902 1887 1719 1762 1564 2179 1816 1980 1977 1876 1340\n",
      " 2206 1741 1485 2339 2415 1380 1721 2051 2377 1669 2352 1672  653 2392\n",
      " 1504 1590 1651 1628 1848 2001 1740 2002 1579 2258 1602 2547 2205 1726\n",
      " 2444 1138 2238  625  213 1539  880 1668 1092 1594 2231 1844  810 2824\n",
      " 2559 2057 1573 1974  974 2174 2149 1735 1258 2603 2282  323 2246 1617\n",
      " 1648 1825 3770 1755 3683 2129 4356 2267 2080 2457  419  155 3900 2201\n",
      " 1944 2467 2754 2472 3004 1411]\n",
      "\n",
      "Column 'hours_per_week' has 94 unique values:\n",
      "[40 13 16 45 50 80 30 35 60 20 52 44 15 25 43 38 55 48 58 32 70 22 56 41\n",
      " 28 36 24 46  2 42 12 65  1 34 75 98 33 54 10  6 64 19 18 72  8  9 47 37\n",
      " 21 26 14  5  7 99 53 39 62 59 57 78 90 66 11 49 84 17 68  3 27 85 31 51\n",
      " 77 63 23  4 87 88 73 89 97 94 29 96 67 82 86 91 81 76 92 61 74 95]\n",
      "\n",
      "Column 'native_country' has 41 unique values:\n",
      "[' United-States' ' Cuba' ' Jamaica' ' India' ' Mexico' ' Puerto-Rico'\n",
      " ' Honduras' ' England' ' Canada' ' Germany' ' Iran' ' Philippines'\n",
      " ' Poland' ' Columbia' ' Cambodia' ' Thailand' ' Ecuador' ' Laos'\n",
      " ' Taiwan' ' Haiti' ' Portugal' ' Dominican-Republic' ' El-Salvador'\n",
      " ' France' ' Guatemala' ' Italy' ' China' ' South' ' Japan' ' Yugoslavia'\n",
      " ' Peru' ' Outlying-US(Guam-USVI-etc)' ' Scotland' ' Trinadad&Tobago'\n",
      " ' Greece' ' Nicaragua' ' Vietnam' ' Hong' ' Ireland' ' Hungary'\n",
      " ' Holand-Netherlands']\n",
      "\n",
      "Column 'income' has 2 unique values:\n",
      "[' <=50K' ' >50K']\n",
      "\n"
     ]
    }
   ],
   "source": [
    "for column in df.columns:\n",
    "    unique_values = df[column].unique()\n",
    "    print(f\"Column '{column}' has {len(unique_values)} unique values:\")\n",
    "    print(unique_values)\n",
    "    print()"
   ]
  },
  {
   "cell_type": "markdown",
   "id": "565dae23",
   "metadata": {},
   "source": [
    "# Checking for Null Values"
   ]
  },
  {
   "cell_type": "code",
   "execution_count": 13,
   "id": "f23ae387",
   "metadata": {},
   "outputs": [
    {
     "data": {
      "text/plain": [
       "age               0\n",
       "workclass         0\n",
       "fnlwgt            0\n",
       "education         0\n",
       "education_num     0\n",
       "marital_status    0\n",
       "occupation        0\n",
       "relationship      0\n",
       "race              0\n",
       "gender            0\n",
       "capital_gain      0\n",
       "capital_loss      0\n",
       "hours_per_week    0\n",
       "native_country    0\n",
       "income            0\n",
       "dtype: int64"
      ]
     },
     "execution_count": 13,
     "metadata": {},
     "output_type": "execute_result"
    }
   ],
   "source": [
    "df.isnull().sum()"
   ]
  },
  {
   "cell_type": "markdown",
   "id": "0dd62144",
   "metadata": {},
   "source": [
    "# We dont have Enough Insight on the column 'fnlwgt', So we are not taking the column into consideration"
   ]
  },
  {
   "cell_type": "code",
   "execution_count": 14,
   "id": "a47e89f4",
   "metadata": {},
   "outputs": [
    {
     "data": {
      "image/png": "[encoded data removed]",
      "text/plain": [
       "<Figure size 576x432 with 1 Axes>"
      ]
     },
     "metadata": {},
     "output_type": "display_data"
    }
   ],
   "source": [
    "import matplotlib.pyplot as plt\n",
    "import seaborn as sns\n",
    "\n",
    "# Set the style for Seaborn\n",
    "sns.set(style=\"whitegrid\")\n",
    "\n",
    "# 1. Age Distribution\n",
    "plt.figure(figsize=(8, 6))\n",
    "sns.histplot(df['age'], kde=True)\n",
    "plt.title('Age Distribution')\n",
    "plt.xlabel('Age')\n",
    "plt.show()"
   ]
  },
  {
   "cell_type": "markdown",
   "id": "10118f3c",
   "metadata": {},
   "source": [
    " This provides insights into the age distribution of the dataset, which can help identify any age-related trends in income."
   ]
  },
  {
   "cell_type": "markdown",
   "id": "21e115d1",
   "metadata": {},
   "source": [
    " As per the graph there is a major population between 25-50 age group"
   ]
  },
  {
   "cell_type": "markdown",
   "id": "b03717ca",
   "metadata": {},
   "source": [
    "# 2. Education Level Count\n"
   ]
  },
  {
   "cell_type": "code",
   "execution_count": 15,
   "id": "280e74b7",
   "metadata": {},
   "outputs": [
    {
     "data": {
      "image/png": "[encoded data removed]",
      "text/plain": [
       "<Figure size 216x432 with 1 Axes>"
      ]
     },
     "metadata": {},
     "output_type": "display_data"
    }
   ],
   "source": [
    "plt.figure(figsize=(3, 6))\n",
    "sns.countplot(data=df, y='education')\n",
    "plt.title('Education Level Count')\n",
    "plt.ylabel('Education Level')\n",
    "plt.show()"
   ]
  },
  {
   "cell_type": "code",
   "execution_count": 16,
   "id": "7fc397ed",
   "metadata": {},
   "outputs": [
    {
     "data": {
      "image/png": "[encoded data removed]",
      "text/plain": [
       "<Figure size 1008x576 with 2 Axes>"
      ]
     },
     "metadata": {},
     "output_type": "display_data"
    }
   ],
   "source": [
    "import matplotlib.pyplot as plt\n",
    "import seaborn as sns\n",
    "\n",
    "# Assuming your DataFrame is named 'df'\n",
    "# You can replace 'df' with your actual DataFrame name\n",
    "\n",
    "# Set the style for the plot\n",
    "sns.set(style=\"whitegrid\")\n",
    "\n",
    "# Create a figure with subplots\n",
    "plt.figure(figsize=(14, 8))\n",
    "\n",
    "# Plotting marital status and income\n",
    "plt.subplot(2, 1, 1)\n",
    "sns.countplot(x='marital_status', hue='income', data=df, palette='Set2')\n",
    "plt.title('Income Distribution Based on Marital Status')\n",
    "\n",
    "# Plotting relationship and income\n",
    "plt.subplot(2, 1, 2)\n",
    "sns.countplot(x='relationship', hue='income', data=df, palette='Set1')\n",
    "plt.title('Income Distribution Based on Relationship')\n",
    "\n",
    "# Adjust layout for better visualization\n",
    "plt.tight_layout()\n",
    "\n",
    "# Show the plot\n",
    "plt.show()\n"
   ]
  },
  {
   "cell_type": "markdown",
   "id": "59e35a1c",
   "metadata": {},
   "source": [
    "# Explanation:\n",
    "\n",
    "- Some-college: The person has attended some college courses but may not have completed a degree.\n",
    "\n",
    "- Assoc-acdm: This refers to an associate degree in applied science, indicating completion of a two-year program focused on a specific field.\n",
    "    \n",
    "- Assoc-voc: This refers to an associate degree in vocational education, indicating completion of a two-year program with a focus on vocational or technical skills.\n",
    "    \n",
    "- Prof-school: Professional school or postgraduate education, often beyond a master's degree, in a specific professional field like law or medicine.\n",
    "    \n",
    "- Doctorate: This indicates the highest academic degree that can be awarded by a university, typically requiring several years of advanced study after completing a master's degree."
   ]
  },
  {
   "cell_type": "markdown",
   "id": "a8ed5c18",
   "metadata": {},
   "source": [
    " As per the graph people have a major education qualification of Bachelors / Higher Secondary Grads/ some- college doesnt have a proper context whether it is a type of college, but hence there is a large amount of data in that , so we are taking into consideration  "
   ]
  },
  {
   "cell_type": "markdown",
   "id": "5f6e1307",
   "metadata": {},
   "source": [
    "# Workclass Distribution"
   ]
  },
  {
   "cell_type": "code",
   "execution_count": 17,
   "id": "fed1ff26",
   "metadata": {},
   "outputs": [
    {
     "data": {
      "image/png": "[encoded data removed]",
      "text/plain": [
       "<Figure size 576x432 with 1 Axes>"
      ]
     },
     "metadata": {},
     "output_type": "display_data"
    }
   ],
   "source": [
    "plt.figure(figsize=(8, 6))\n",
    "sns.countplot(data=df, y='workclass')\n",
    "plt.title('Workclass Distribution')\n",
    "plt.ylabel('Workclass')\n",
    "plt.show()"
   ]
  },
  {
   "cell_type": "markdown",
   "id": "21f77bf3",
   "metadata": {},
   "source": [
    "# Explanation:\n",
    "\n",
    "- State-gov: Employment in a state government organization. This includes positions within various state government agencies or departments.\n",
    "\n",
    "\n",
    "- Self-emp-not-inc: Self-employed individuals who operate their own businesses or work as freelancers but are not -incorporated.\n",
    "\n",
    "\n",
    "- Private: Employment in the private sector, typically for privately-owned businesses or companies.\n",
    "\n",
    "\n",
    "- Federal-gov: Employment in the federal government. This includes positions within various federal government agencies or departments.\n",
    "\n",
    "\n",
    "- Local-gov: Employment in a local government organization. This includes positions within city or county government agencies or departments.\n",
    "\n",
    "\n",
    "- Self-emp-inc: Self-employed individuals who operate their own businesses or work as freelancers and are incorporated.\n",
    "\n",
    "\n",
    "- Without-pay: This category may indicate individuals who are not receiving a salary or payment for their work. This could include volunteers or individuals engaged in unpaid work for other reasons."
   ]
  },
  {
   "cell_type": "markdown",
   "id": "1661d502",
   "metadata": {},
   "source": [
    "# Income Distribution"
   ]
  },
  {
   "cell_type": "code",
   "execution_count": 18,
   "id": "e29cab4e",
   "metadata": {},
   "outputs": [
    {
     "data": {
      "image/png": "[encoded data removed]",
      "text/plain": [
       "<Figure size 576x432 with 1 Axes>"
      ]
     },
     "metadata": {},
     "output_type": "display_data"
    }
   ],
   "source": [
    "plt.figure(figsize=(8, 6))\n",
    "sns.countplot(data=df, x='income')\n",
    "plt.title('Income Distribution')\n",
    "plt.xlabel('Income')\n",
    "plt.show()"
   ]
  },
  {
   "cell_type": "markdown",
   "id": "a64fdf90",
   "metadata": {},
   "source": [
    "As per the above bar graph the majority population earns some where between less than or equal to 50k"
   ]
  },
  {
   "cell_type": "markdown",
   "id": "fd96d12a",
   "metadata": {},
   "source": [
    "# Capital Gain Distribution | Capital Loss Distribution:\n"
   ]
  },
  {
   "cell_type": "code",
   "execution_count": 19,
   "id": "bba59649",
   "metadata": {},
   "outputs": [
    {
     "data": {
      "image/png": "[encoded data removed]",
      "text/plain": [
       "<Figure size 864x288 with 2 Axes>"
      ]
     },
     "metadata": {},
     "output_type": "display_data"
    }
   ],
   "source": [
    "# Set up subplots for capital gain and capital loss histograms\n",
    "fig, (ax1, ax2) = plt.subplots(1, 2, figsize=(12, 4))\n",
    "\n",
    "# Create a histogram for capital gains\n",
    "ax1.hist(df['capital_gain'], bins=30, edgecolor='k', color='g', alpha=0.6, label='Capital Gain')\n",
    "ax1.set_title('Capital Gain Distribution')\n",
    "ax1.set_xlabel('Capital Gain')\n",
    "ax1.set_ylabel('Frequency')\n",
    "\n",
    "# Create a histogram for capital losses\n",
    "ax2.hist(df['capital_loss'], bins=30, edgecolor='k', color='r', alpha=0.6, label='Capital Loss')\n",
    "ax2.set_title('Capital Loss Distribution')\n",
    "ax2.set_xlabel('Capital Loss')\n",
    "ax2.set_ylabel('Frequency')\n",
    "\n",
    "# Add legends\n",
    "ax1.legend()\n",
    "ax2.legend()\n",
    "\n",
    "# Display the plot\n",
    "plt.tight_layout()\n",
    "plt.show()"
   ]
  },
  {
   "cell_type": "markdown",
   "id": "25c91e9f",
   "metadata": {},
   "source": [
    "# Capital Gain Distribution:\n",
    "\n",
    "Notably, there is a significant number of individuals with no capital gains (the high bar at 0), and smaller bars for positive capital gains within different ranges."
   ]
  },
  {
   "cell_type": "markdown",
   "id": "ad4b1b1a",
   "metadata": {},
   "source": [
    "# Capital Loss Distribution:\n",
    "\n",
    "Similar to capital gains, there is a high bar at 0, indicating a substantial portion of individuals with no capital losses. The smaller bars represent individuals with positive capital losses within different ranges."
   ]
  },
  {
   "cell_type": "markdown",
   "id": "b341751f",
   "metadata": {},
   "source": [
    "# Distribution of Native Country"
   ]
  },
  {
   "cell_type": "code",
   "execution_count": 20,
   "id": "9cff3529",
   "metadata": {},
   "outputs": [
    {
     "data": {
      "image/png": "[encoded data removed]",
      "text/plain": [
       "<Figure size 1080x432 with 1 Axes>"
      ]
     },
     "metadata": {},
     "output_type": "display_data"
    }
   ],
   "source": [
    "plt.figure(figsize=(15, 6))\n",
    "df['native_country'].value_counts().plot(kind='bar')\n",
    "plt.title('Distribution of Native Country')\n",
    "plt.xlabel('Native Country')\n",
    "plt.ylabel('Count')\n",
    "plt.xticks(rotation=90)\n",
    "plt.show()"
   ]
  },
  {
   "cell_type": "code",
   "execution_count": 21,
   "id": "f5e76a41",
   "metadata": {},
   "outputs": [
    {
     "name": "stdout",
     "output_type": "stream",
     "text": [
      "Counts of each unique value in 'native_country' column:\n",
      " United-States                 27504\n",
      " Mexico                          610\n",
      " Philippines                     188\n",
      " Germany                         128\n",
      " Puerto-Rico                     109\n",
      " Canada                          107\n",
      " India                           100\n",
      " El-Salvador                     100\n",
      " Cuba                             92\n",
      " England                          86\n",
      " Jamaica                          80\n",
      " South                            71\n",
      " China                            68\n",
      " Italy                            68\n",
      " Dominican-Republic               67\n",
      " Vietnam                          64\n",
      " Guatemala                        63\n",
      " Japan                            59\n",
      " Poland                           56\n",
      " Columbia                         56\n",
      " Iran                             42\n",
      " Taiwan                           42\n",
      " Haiti                            42\n",
      " Portugal                         34\n",
      " Nicaragua                        33\n",
      " Peru                             30\n",
      " Greece                           29\n",
      " France                           27\n",
      " Ecuador                          27\n",
      " Ireland                          24\n",
      " Hong                             19\n",
      " Cambodia                         18\n",
      " Trinadad&Tobago                  18\n",
      " Thailand                         17\n",
      " Laos                             17\n",
      " Yugoslavia                       16\n",
      " Outlying-US(Guam-USVI-etc)       14\n",
      " Hungary                          13\n",
      " Honduras                         12\n",
      " Scotland                         11\n",
      " Holand-Netherlands                1\n",
      "Name: native_country, dtype: int64\n"
     ]
    }
   ],
   "source": [
    "# Assuming your data is stored in a DataFrame called df\n",
    "\n",
    "# Display counts of each unique value in the 'native_country' column\n",
    "country_counts = df['native_country'].value_counts()\n",
    "\n",
    "# Display the counts\n",
    "print(\"Counts of each unique value in 'native_country' column:\")\n",
    "print(country_counts)\n"
   ]
  },
  {
   "cell_type": "code",
   "execution_count": 22,
   "id": "5c0e077f",
   "metadata": {},
   "outputs": [
    {
     "name": "stdout",
     "output_type": "stream",
     "text": [
      "Updated Counts after Grouping Top N Countries:\n",
      " United-States    27504\n",
      " Other             1623\n",
      " Mexico             610\n",
      " Philippines        188\n",
      " Germany            128\n",
      " Puerto-Rico        109\n",
      "Name: native_country, dtype: int64\n"
     ]
    }
   ],
   "source": [
    "# Set the number of top countries to keep\n",
    "top_n_countries = 5\n",
    "\n",
    "# Get the top N countries\n",
    "top_countries = df['native_country'].value_counts().nlargest(top_n_countries).index\n",
    "\n",
    "# Group countries not in the top N into 'Other'\n",
    "df['native_country'] = df['native_country'].apply(lambda x: x if x in top_countries else ' Other')\n",
    "\n",
    "# Display the updated counts after grouping\n",
    "updated_country_counts = df['native_country'].value_counts()\n",
    "print(\"Updated Counts after Grouping Top N Countries:\")\n",
    "print(updated_country_counts)\n"
   ]
  },
  {
   "cell_type": "code",
   "execution_count": 23,
   "id": "b6c24279",
   "metadata": {},
   "outputs": [
    {
     "data": {
      "text/html": [
       "<div>\n",
       "<style scoped>\n",
       "    .dataframe tbody tr th:only-of-type {\n",
       "        vertical-align: middle;\n",
       "    }\n",
       "\n",
       "    .dataframe tbody tr th {\n",
       "        vertical-align: top;\n",
       "    }\n",
       "\n",
       "    .dataframe thead th {\n",
       "        text-align: right;\n",
       "    }\n",
       "</style>\n",
       "<table border=\"1\" class=\"dataframe\">\n",
       "  <thead>\n",
       "    <tr style=\"text-align: right;\">\n",
       "      <th></th>\n",
       "      <th>age</th>\n",
       "      <th>workclass</th>\n",
       "      <th>fnlwgt</th>\n",
       "      <th>education</th>\n",
       "      <th>education_num</th>\n",
       "      <th>marital_status</th>\n",
       "      <th>occupation</th>\n",
       "      <th>relationship</th>\n",
       "      <th>race</th>\n",
       "      <th>gender</th>\n",
       "      <th>capital_gain</th>\n",
       "      <th>capital_loss</th>\n",
       "      <th>hours_per_week</th>\n",
       "      <th>native_country</th>\n",
       "      <th>income</th>\n",
       "    </tr>\n",
       "  </thead>\n",
       "  <tbody>\n",
       "    <tr>\n",
       "      <th>0</th>\n",
       "      <td>39</td>\n",
       "      <td>State-gov</td>\n",
       "      <td>77516</td>\n",
       "      <td>Bachelors</td>\n",
       "      <td>13</td>\n",
       "      <td>Never-married</td>\n",
       "      <td>Adm-clerical</td>\n",
       "      <td>Not-in-family</td>\n",
       "      <td>White</td>\n",
       "      <td>Male</td>\n",
       "      <td>2174</td>\n",
       "      <td>0</td>\n",
       "      <td>40</td>\n",
       "      <td>United-States</td>\n",
       "      <td>&lt;=50K</td>\n",
       "    </tr>\n",
       "    <tr>\n",
       "      <th>1</th>\n",
       "      <td>50</td>\n",
       "      <td>Self-emp-not-inc</td>\n",
       "      <td>83311</td>\n",
       "      <td>Bachelors</td>\n",
       "      <td>13</td>\n",
       "      <td>Married-civ-spouse</td>\n",
       "      <td>Exec-managerial</td>\n",
       "      <td>Husband</td>\n",
       "      <td>White</td>\n",
       "      <td>Male</td>\n",
       "      <td>0</td>\n",
       "      <td>0</td>\n",
       "      <td>13</td>\n",
       "      <td>United-States</td>\n",
       "      <td>&lt;=50K</td>\n",
       "    </tr>\n",
       "    <tr>\n",
       "      <th>2</th>\n",
       "      <td>38</td>\n",
       "      <td>Private</td>\n",
       "      <td>215646</td>\n",
       "      <td>HS-grad</td>\n",
       "      <td>9</td>\n",
       "      <td>Divorced</td>\n",
       "      <td>Handlers-cleaners</td>\n",
       "      <td>Not-in-family</td>\n",
       "      <td>White</td>\n",
       "      <td>Male</td>\n",
       "      <td>0</td>\n",
       "      <td>0</td>\n",
       "      <td>40</td>\n",
       "      <td>United-States</td>\n",
       "      <td>&lt;=50K</td>\n",
       "    </tr>\n",
       "    <tr>\n",
       "      <th>3</th>\n",
       "      <td>53</td>\n",
       "      <td>Private</td>\n",
       "      <td>234721</td>\n",
       "      <td>11th</td>\n",
       "      <td>7</td>\n",
       "      <td>Married-civ-spouse</td>\n",
       "      <td>Handlers-cleaners</td>\n",
       "      <td>Husband</td>\n",
       "      <td>Black</td>\n",
       "      <td>Male</td>\n",
       "      <td>0</td>\n",
       "      <td>0</td>\n",
       "      <td>40</td>\n",
       "      <td>United-States</td>\n",
       "      <td>&lt;=50K</td>\n",
       "    </tr>\n",
       "    <tr>\n",
       "      <th>4</th>\n",
       "      <td>28</td>\n",
       "      <td>Private</td>\n",
       "      <td>338409</td>\n",
       "      <td>Bachelors</td>\n",
       "      <td>13</td>\n",
       "      <td>Married-civ-spouse</td>\n",
       "      <td>Prof-specialty</td>\n",
       "      <td>Wife</td>\n",
       "      <td>Black</td>\n",
       "      <td>Female</td>\n",
       "      <td>0</td>\n",
       "      <td>0</td>\n",
       "      <td>40</td>\n",
       "      <td>Other</td>\n",
       "      <td>&lt;=50K</td>\n",
       "    </tr>\n",
       "  </tbody>\n",
       "</table>\n",
       "</div>"
      ],
      "text/plain": [
       "   age          workclass  fnlwgt   education  education_num  \\\n",
       "0   39          State-gov   77516   Bachelors             13   \n",
       "1   50   Self-emp-not-inc   83311   Bachelors             13   \n",
       "2   38            Private  215646     HS-grad              9   \n",
       "3   53            Private  234721        11th              7   \n",
       "4   28            Private  338409   Bachelors             13   \n",
       "\n",
       "        marital_status          occupation    relationship    race   gender  \\\n",
       "0        Never-married        Adm-clerical   Not-in-family   White     Male   \n",
       "1   Married-civ-spouse     Exec-managerial         Husband   White     Male   \n",
       "2             Divorced   Handlers-cleaners   Not-in-family   White     Male   \n",
       "3   Married-civ-spouse   Handlers-cleaners         Husband   Black     Male   \n",
       "4   Married-civ-spouse      Prof-specialty            Wife   Black   Female   \n",
       "\n",
       "   capital_gain  capital_loss  hours_per_week  native_country  income  \n",
       "0          2174             0              40   United-States   <=50K  \n",
       "1             0             0              13   United-States   <=50K  \n",
       "2             0             0              40   United-States   <=50K  \n",
       "3             0             0              40   United-States   <=50K  \n",
       "4             0             0              40           Other   <=50K  "
      ]
     },
     "execution_count": 23,
     "metadata": {},
     "output_type": "execute_result"
    }
   ],
   "source": [
    "df.head()"
   ]
  },
  {
   "cell_type": "markdown",
   "id": "16d62ecf",
   "metadata": {},
   "source": [
    "As per the distribution the majority of the people are from United States "
   ]
  },
  {
   "cell_type": "markdown",
   "id": "e91ebe55",
   "metadata": {},
   "source": [
    "# Education Level Distribution by Income"
   ]
  },
  {
   "cell_type": "code",
   "execution_count": 24,
   "id": "2a78d0c3",
   "metadata": {},
   "outputs": [
    {
     "data": {
      "image/png": "[encoded data removed]",
      "text/plain": [
       "<Figure size 864x432 with 1 Axes>"
      ]
     },
     "metadata": {},
     "output_type": "display_data"
    }
   ],
   "source": [
    "plt.figure(figsize=(12, 6))\n",
    "df[df['income'] == ' <=50K']['education'].value_counts().plot(kind='bar', alpha=0.5, label='Income <=50K')\n",
    "df[df['income'] == ' >50K']['education'].value_counts().plot(kind='bar', alpha=0.8, label='Income >50K')\n",
    "plt.title('Education Level Distribution by Income')\n",
    "plt.xlabel('Education Level')\n",
    "plt.ylabel('Count')\n",
    "plt.legend()\n",
    "plt.xticks(rotation=45)\n",
    "plt.show()"
   ]
  },
  {
   "cell_type": "markdown",
   "id": "91b5300b",
   "metadata": {},
   "source": [
    " As per the above graph people with Bachelors degree have an income of more than 50K, follows by the persons with Higher secondry grads"
   ]
  },
  {
   "cell_type": "markdown",
   "id": "cd1e7224",
   "metadata": {},
   "source": [
    "# Age Distribution by Income"
   ]
  },
  {
   "cell_type": "code",
   "execution_count": 25,
   "id": "ad89d3f2",
   "metadata": {},
   "outputs": [
    {
     "data": {
      "image/png": "[encoded data removed]",
      "text/plain": [
       "<Figure size 720x432 with 1 Axes>"
      ]
     },
     "metadata": {},
     "output_type": "display_data"
    }
   ],
   "source": [
    "plt.figure(figsize=(10, 6))\n",
    "df[df['income'] == ' <=50K']['age'].plot(kind='hist', alpha=0.5, label='Income <=50K')\n",
    "df[df['income'] == ' >50K']['age'].plot(kind='hist', alpha=0.5, label='Income >50K')\n",
    "plt.title('Age Distribution by Income')\n",
    "plt.xlabel('Age')\n",
    "plt.ylabel('Count')\n",
    "plt.legend()\n",
    "plt.show()"
   ]
  },
  {
   "cell_type": "markdown",
   "id": "ec2ac14e",
   "metadata": {},
   "source": [
    " As per the above Graph the age betweeen 20 -40 have a less or equal annual income of 50K| People between 30 -50 have a income of more than 50K , but the problem is the count of people who earns more than 50K is less"
   ]
  },
  {
   "cell_type": "code",
   "execution_count": 26,
   "id": "c8ee19ee",
   "metadata": {},
   "outputs": [
    {
     "data": {
      "image/png": "[encoded data removed]",
      "text/plain": [
       "<Figure size 1008x432 with 2 Axes>"
      ]
     },
     "metadata": {},
     "output_type": "display_data"
    }
   ],
   "source": [
    "sns.set(style=\"whitegrid\")\n",
    "\n",
    "# Create a figure with subplots\n",
    "fig, axes = plt.subplots(nrows=1, ncols=2, figsize=(14, 6), sharey=True)\n",
    "\n",
    "# Plot the distribution of hours per week for income <=50K\n",
    "sns.histplot(df[df['income'] == ' <=50K']['hours_per_week'], bins=20, kde=True, color='skyblue', ax=axes[0])\n",
    "axes[0].set_title('Income <=50K')\n",
    "axes[0].set_xlabel('Hours Per Week')\n",
    "axes[0].set_ylabel('Frequency')\n",
    "\n",
    "# Plot the distribution of hours per week for income >50K\n",
    "sns.histplot(df[df['income'] == ' >50K']['hours_per_week'], bins=20, kde=True, color='salmon', ax=axes[1])\n",
    "axes[1].set_title('Income >50K')\n",
    "axes[1].set_xlabel('Hours Per Week')\n",
    "axes[1].set_ylabel('Frequency')\n",
    "\n",
    "# Adjust layout\n",
    "plt.tight_layout()\n",
    "\n",
    "plt.show()"
   ]
  },
  {
   "cell_type": "markdown",
   "id": "b7e884c9",
   "metadata": {},
   "source": [
    "# INCOME <=50k\n",
    "\n",
    "The count on the people who earns less than or equal to 50k is high on the people who works around 40 hours per week ! and thats a huge spike on 40 hours per week which shows that the majority of the population works around 40 hours per week \n",
    "\n",
    "# INCOME >50k\n",
    "\n",
    "The overall sample size of the people who earns more than 50k is very low compared to the people who earns <=50k , as per the graph the majority of the people who works around 40 hours per week has a income more than 50k"
   ]
  },
  {
   "cell_type": "markdown",
   "id": "e5f9aa35",
   "metadata": {},
   "source": [
    "# Checking for outliers"
   ]
  },
  {
   "cell_type": "code",
   "execution_count": 27,
   "id": "3417d505",
   "metadata": {
    "scrolled": true
   },
   "outputs": [
    {
     "data": {
      "image/png": "[encoded data removed]",
      "text/plain": [
       "<Figure size 1152x864 with 4 Axes>"
      ]
     },
     "metadata": {},
     "output_type": "display_data"
    }
   ],
   "source": [
    "# Set the style for Seaborn\n",
    "sns.set(style=\"whitegrid\")\n",
    "\n",
    "# Create subplots for box plots\n",
    "fig, axes = plt.subplots(nrows=2, ncols=2, figsize=(16, 12))\n",
    "\n",
    "# Create box plots for numerical columns with potential outliers\n",
    "sns.boxplot(x=df['age'], ax=axes[0, 0])\n",
    "sns.boxplot(x=df['capital_gain'], ax=axes[0, 1])\n",
    "sns.boxplot(x=df['capital_loss'], ax=axes[1, 0])\n",
    "sns.boxplot(x=df['hours_per_week'], ax=axes[1, 1])\n",
    "\n",
    "# Adjust layout\n",
    "plt.tight_layout()\n",
    "plt.show()"
   ]
  },
  {
   "cell_type": "markdown",
   "id": "7c4c84a3",
   "metadata": {},
   "source": [
    "# Correlation matrix"
   ]
  },
  {
   "cell_type": "code",
   "execution_count": 28,
   "id": "6de1107a",
   "metadata": {},
   "outputs": [
    {
     "data": {
      "image/png": "[encoded data removed]",
      "text/plain": [
       "<Figure size 720x576 with 2 Axes>"
      ]
     },
     "metadata": {},
     "output_type": "display_data"
    }
   ],
   "source": [
    "import seaborn as sns\n",
    "import matplotlib.pyplot as plt\n",
    "\n",
    "\n",
    "# Define the columns you want to include in the correlation analysis\n",
    "selected_columns = ['age', 'education_num', 'capital_gain', 'capital_loss', 'hours_per_week']\n",
    "\n",
    "# Create a DataFrame with the selected columns\n",
    "hgfgdf1 = df[selected_columns]\n",
    "\n",
    "# Calculate the correlation matrix\n",
    "correlation_matrix = df.corr()\n",
    "\n",
    "# Create a heatmap to visualize the correlation matrix\n",
    "plt.figure(figsize=(10, 8))\n",
    "sns.heatmap(correlation_matrix, annot=True, cmap='coolwarm', fmt=\".2f\", linewidths=.5)\n",
    "plt.title('Correlation Matrix')\n",
    "plt.show()\n"
   ]
  },
  {
   "cell_type": "markdown",
   "id": "6327e998",
   "metadata": {},
   "source": [
    "# Checking for class Distribution "
   ]
  },
  {
   "cell_type": "code",
   "execution_count": 29,
   "id": "08b0c3a9",
   "metadata": {},
   "outputs": [
    {
     "name": "stdout",
     "output_type": "stream",
     "text": [
      " <=50K    22654\n",
      " >50K      7508\n",
      "Name: income, dtype: int64\n"
     ]
    }
   ],
   "source": [
    "class_distribution = df['income'].value_counts()\n",
    "print(class_distribution)"
   ]
  },
  {
   "cell_type": "markdown",
   "id": "6c964f8a",
   "metadata": {},
   "source": [
    "Reasoning : When the Target variable which is in our case is the Income ( having an imbalance weightage of data would result in bias : Which is when the models tend to be biased towards the majority class when faced with imbalanced data\n",
    "\n",
    "Reduced Sensitivity: The model's ability to correctly identify the minority class ('>50K') might be reduced\n"
   ]
  },
  {
   "cell_type": "code",
   "execution_count": null,
   "id": "d9b025ae",
   "metadata": {},
   "outputs": [],
   "source": []
  },
  {
   "cell_type": "code",
   "execution_count": 30,
   "id": "4e63e274",
   "metadata": {},
   "outputs": [],
   "source": [
    "columns_to_remove = ['education_num', 'race', 'native_country', 'fnlwgt']\n",
    "df = df.drop(columns=columns_to_remove)"
   ]
  },
  {
   "cell_type": "markdown",
   "id": "e9b91142",
   "metadata": {},
   "source": [
    "# Performing One hot Encoding for Categorical Values"
   ]
  },
  {
   "cell_type": "code",
   "execution_count": 31,
   "id": "6e8443fd",
   "metadata": {},
   "outputs": [
    {
     "name": "stdout",
     "output_type": "stream",
     "text": [
      "age                int64\n",
      "workclass         object\n",
      "education         object\n",
      "marital_status    object\n",
      "occupation        object\n",
      "relationship      object\n",
      "gender            object\n",
      "capital_gain       int64\n",
      "capital_loss       int64\n",
      "hours_per_week     int64\n",
      "income            object\n",
      "dtype: object\n"
     ]
    }
   ],
   "source": [
    "column_data_types = df.dtypes\n",
    "print(column_data_types)\n"
   ]
  },
  {
   "cell_type": "code",
   "execution_count": 32,
   "id": "3bb58556",
   "metadata": {},
   "outputs": [],
   "source": [
    "categorical_columns = ['marital_status', 'occupation', 'gender', 'workclass','education','relationship']\n",
    "df_encoded = pd.get_dummies(df, columns=categorical_columns)\n"
   ]
  },
  {
   "cell_type": "code",
   "execution_count": 33,
   "id": "3b38ddc2",
   "metadata": {},
   "outputs": [
    {
     "data": {
      "text/html": [
       "<div>\n",
       "<style scoped>\n",
       "    .dataframe tbody tr th:only-of-type {\n",
       "        vertical-align: middle;\n",
       "    }\n",
       "\n",
       "    .dataframe tbody tr th {\n",
       "        vertical-align: top;\n",
       "    }\n",
       "\n",
       "    .dataframe thead th {\n",
       "        text-align: right;\n",
       "    }\n",
       "</style>\n",
       "<table border=\"1\" class=\"dataframe\">\n",
       "  <thead>\n",
       "    <tr style=\"text-align: right;\">\n",
       "      <th></th>\n",
       "      <th>age</th>\n",
       "      <th>capital_gain</th>\n",
       "      <th>capital_loss</th>\n",
       "      <th>hours_per_week</th>\n",
       "      <th>income</th>\n",
       "      <th>marital_status_ Divorced</th>\n",
       "      <th>marital_status_ Married-AF-spouse</th>\n",
       "      <th>marital_status_ Married-civ-spouse</th>\n",
       "      <th>marital_status_ Married-spouse-absent</th>\n",
       "      <th>marital_status_ Never-married</th>\n",
       "      <th>...</th>\n",
       "      <th>education_ Masters</th>\n",
       "      <th>education_ Preschool</th>\n",
       "      <th>education_ Prof-school</th>\n",
       "      <th>education_ Some-college</th>\n",
       "      <th>relationship_ Husband</th>\n",
       "      <th>relationship_ Not-in-family</th>\n",
       "      <th>relationship_ Other-relative</th>\n",
       "      <th>relationship_ Own-child</th>\n",
       "      <th>relationship_ Unmarried</th>\n",
       "      <th>relationship_ Wife</th>\n",
       "    </tr>\n",
       "  </thead>\n",
       "  <tbody>\n",
       "    <tr>\n",
       "      <th>0</th>\n",
       "      <td>39</td>\n",
       "      <td>2174</td>\n",
       "      <td>0</td>\n",
       "      <td>40</td>\n",
       "      <td>&lt;=50K</td>\n",
       "      <td>0</td>\n",
       "      <td>0</td>\n",
       "      <td>0</td>\n",
       "      <td>0</td>\n",
       "      <td>1</td>\n",
       "      <td>...</td>\n",
       "      <td>0</td>\n",
       "      <td>0</td>\n",
       "      <td>0</td>\n",
       "      <td>0</td>\n",
       "      <td>0</td>\n",
       "      <td>1</td>\n",
       "      <td>0</td>\n",
       "      <td>0</td>\n",
       "      <td>0</td>\n",
       "      <td>0</td>\n",
       "    </tr>\n",
       "    <tr>\n",
       "      <th>1</th>\n",
       "      <td>50</td>\n",
       "      <td>0</td>\n",
       "      <td>0</td>\n",
       "      <td>13</td>\n",
       "      <td>&lt;=50K</td>\n",
       "      <td>0</td>\n",
       "      <td>0</td>\n",
       "      <td>1</td>\n",
       "      <td>0</td>\n",
       "      <td>0</td>\n",
       "      <td>...</td>\n",
       "      <td>0</td>\n",
       "      <td>0</td>\n",
       "      <td>0</td>\n",
       "      <td>0</td>\n",
       "      <td>1</td>\n",
       "      <td>0</td>\n",
       "      <td>0</td>\n",
       "      <td>0</td>\n",
       "      <td>0</td>\n",
       "      <td>0</td>\n",
       "    </tr>\n",
       "    <tr>\n",
       "      <th>2</th>\n",
       "      <td>38</td>\n",
       "      <td>0</td>\n",
       "      <td>0</td>\n",
       "      <td>40</td>\n",
       "      <td>&lt;=50K</td>\n",
       "      <td>1</td>\n",
       "      <td>0</td>\n",
       "      <td>0</td>\n",
       "      <td>0</td>\n",
       "      <td>0</td>\n",
       "      <td>...</td>\n",
       "      <td>0</td>\n",
       "      <td>0</td>\n",
       "      <td>0</td>\n",
       "      <td>0</td>\n",
       "      <td>0</td>\n",
       "      <td>1</td>\n",
       "      <td>0</td>\n",
       "      <td>0</td>\n",
       "      <td>0</td>\n",
       "      <td>0</td>\n",
       "    </tr>\n",
       "    <tr>\n",
       "      <th>3</th>\n",
       "      <td>53</td>\n",
       "      <td>0</td>\n",
       "      <td>0</td>\n",
       "      <td>40</td>\n",
       "      <td>&lt;=50K</td>\n",
       "      <td>0</td>\n",
       "      <td>0</td>\n",
       "      <td>1</td>\n",
       "      <td>0</td>\n",
       "      <td>0</td>\n",
       "      <td>...</td>\n",
       "      <td>0</td>\n",
       "      <td>0</td>\n",
       "      <td>0</td>\n",
       "      <td>0</td>\n",
       "      <td>1</td>\n",
       "      <td>0</td>\n",
       "      <td>0</td>\n",
       "      <td>0</td>\n",
       "      <td>0</td>\n",
       "      <td>0</td>\n",
       "    </tr>\n",
       "    <tr>\n",
       "      <th>4</th>\n",
       "      <td>28</td>\n",
       "      <td>0</td>\n",
       "      <td>0</td>\n",
       "      <td>40</td>\n",
       "      <td>&lt;=50K</td>\n",
       "      <td>0</td>\n",
       "      <td>0</td>\n",
       "      <td>1</td>\n",
       "      <td>0</td>\n",
       "      <td>0</td>\n",
       "      <td>...</td>\n",
       "      <td>0</td>\n",
       "      <td>0</td>\n",
       "      <td>0</td>\n",
       "      <td>0</td>\n",
       "      <td>0</td>\n",
       "      <td>0</td>\n",
       "      <td>0</td>\n",
       "      <td>0</td>\n",
       "      <td>0</td>\n",
       "      <td>1</td>\n",
       "    </tr>\n",
       "  </tbody>\n",
       "</table>\n",
       "<p>5 rows × 57 columns</p>\n",
       "</div>"
      ],
      "text/plain": [
       "   age  capital_gain  capital_loss  hours_per_week  income  \\\n",
       "0   39          2174             0              40   <=50K   \n",
       "1   50             0             0              13   <=50K   \n",
       "2   38             0             0              40   <=50K   \n",
       "3   53             0             0              40   <=50K   \n",
       "4   28             0             0              40   <=50K   \n",
       "\n",
       "   marital_status_ Divorced  marital_status_ Married-AF-spouse  \\\n",
       "0                         0                                  0   \n",
       "1                         0                                  0   \n",
       "2                         1                                  0   \n",
       "3                         0                                  0   \n",
       "4                         0                                  0   \n",
       "\n",
       "   marital_status_ Married-civ-spouse  marital_status_ Married-spouse-absent  \\\n",
       "0                                   0                                      0   \n",
       "1                                   1                                      0   \n",
       "2                                   0                                      0   \n",
       "3                                   1                                      0   \n",
       "4                                   1                                      0   \n",
       "\n",
       "   marital_status_ Never-married  ...  education_ Masters  \\\n",
       "0                              1  ...                   0   \n",
       "1                              0  ...                   0   \n",
       "2                              0  ...                   0   \n",
       "3                              0  ...                   0   \n",
       "4                              0  ...                   0   \n",
       "\n",
       "   education_ Preschool  education_ Prof-school  education_ Some-college  \\\n",
       "0                     0                       0                        0   \n",
       "1                     0                       0                        0   \n",
       "2                     0                       0                        0   \n",
       "3                     0                       0                        0   \n",
       "4                     0                       0                        0   \n",
       "\n",
       "   relationship_ Husband  relationship_ Not-in-family  \\\n",
       "0                      0                            1   \n",
       "1                      1                            0   \n",
       "2                      0                            1   \n",
       "3                      1                            0   \n",
       "4                      0                            0   \n",
       "\n",
       "   relationship_ Other-relative  relationship_ Own-child  \\\n",
       "0                             0                        0   \n",
       "1                             0                        0   \n",
       "2                             0                        0   \n",
       "3                             0                        0   \n",
       "4                             0                        0   \n",
       "\n",
       "   relationship_ Unmarried  relationship_ Wife  \n",
       "0                        0                   0  \n",
       "1                        0                   0  \n",
       "2                        0                   0  \n",
       "3                        0                   0  \n",
       "4                        0                   1  \n",
       "\n",
       "[5 rows x 57 columns]"
      ]
     },
     "execution_count": 33,
     "metadata": {},
     "output_type": "execute_result"
    }
   ],
   "source": [
    "df_encoded.head()"
   ]
  },
  {
   "cell_type": "markdown",
   "id": "1d7bf469",
   "metadata": {},
   "source": [
    "# Dropping one of the education-related columns to avoid multicollinearity\n"
   ]
  },
  {
   "cell_type": "code",
   "execution_count": 34,
   "id": "41fb6023",
   "metadata": {},
   "outputs": [],
   "source": [
    "df_encoded['income'] = df_encoded['income'].map({' <=50K': 0, ' >50K': 1})"
   ]
  },
  {
   "cell_type": "code",
   "execution_count": 35,
   "id": "582cba24",
   "metadata": {},
   "outputs": [
    {
     "data": {
      "text/html": [
       "<div>\n",
       "<style scoped>\n",
       "    .dataframe tbody tr th:only-of-type {\n",
       "        vertical-align: middle;\n",
       "    }\n",
       "\n",
       "    .dataframe tbody tr th {\n",
       "        vertical-align: top;\n",
       "    }\n",
       "\n",
       "    .dataframe thead th {\n",
       "        text-align: right;\n",
       "    }\n",
       "</style>\n",
       "<table border=\"1\" class=\"dataframe\">\n",
       "  <thead>\n",
       "    <tr style=\"text-align: right;\">\n",
       "      <th></th>\n",
       "      <th>age</th>\n",
       "      <th>capital_gain</th>\n",
       "      <th>capital_loss</th>\n",
       "      <th>hours_per_week</th>\n",
       "      <th>income</th>\n",
       "      <th>marital_status_ Divorced</th>\n",
       "      <th>marital_status_ Married-AF-spouse</th>\n",
       "      <th>marital_status_ Married-civ-spouse</th>\n",
       "      <th>marital_status_ Married-spouse-absent</th>\n",
       "      <th>marital_status_ Never-married</th>\n",
       "      <th>...</th>\n",
       "      <th>education_ Masters</th>\n",
       "      <th>education_ Preschool</th>\n",
       "      <th>education_ Prof-school</th>\n",
       "      <th>education_ Some-college</th>\n",
       "      <th>relationship_ Husband</th>\n",
       "      <th>relationship_ Not-in-family</th>\n",
       "      <th>relationship_ Other-relative</th>\n",
       "      <th>relationship_ Own-child</th>\n",
       "      <th>relationship_ Unmarried</th>\n",
       "      <th>relationship_ Wife</th>\n",
       "    </tr>\n",
       "  </thead>\n",
       "  <tbody>\n",
       "    <tr>\n",
       "      <th>0</th>\n",
       "      <td>39</td>\n",
       "      <td>2174</td>\n",
       "      <td>0</td>\n",
       "      <td>40</td>\n",
       "      <td>0</td>\n",
       "      <td>0</td>\n",
       "      <td>0</td>\n",
       "      <td>0</td>\n",
       "      <td>0</td>\n",
       "      <td>1</td>\n",
       "      <td>...</td>\n",
       "      <td>0</td>\n",
       "      <td>0</td>\n",
       "      <td>0</td>\n",
       "      <td>0</td>\n",
       "      <td>0</td>\n",
       "      <td>1</td>\n",
       "      <td>0</td>\n",
       "      <td>0</td>\n",
       "      <td>0</td>\n",
       "      <td>0</td>\n",
       "    </tr>\n",
       "    <tr>\n",
       "      <th>1</th>\n",
       "      <td>50</td>\n",
       "      <td>0</td>\n",
       "      <td>0</td>\n",
       "      <td>13</td>\n",
       "      <td>0</td>\n",
       "      <td>0</td>\n",
       "      <td>0</td>\n",
       "      <td>1</td>\n",
       "      <td>0</td>\n",
       "      <td>0</td>\n",
       "      <td>...</td>\n",
       "      <td>0</td>\n",
       "      <td>0</td>\n",
       "      <td>0</td>\n",
       "      <td>0</td>\n",
       "      <td>1</td>\n",
       "      <td>0</td>\n",
       "      <td>0</td>\n",
       "      <td>0</td>\n",
       "      <td>0</td>\n",
       "      <td>0</td>\n",
       "    </tr>\n",
       "    <tr>\n",
       "      <th>2</th>\n",
       "      <td>38</td>\n",
       "      <td>0</td>\n",
       "      <td>0</td>\n",
       "      <td>40</td>\n",
       "      <td>0</td>\n",
       "      <td>1</td>\n",
       "      <td>0</td>\n",
       "      <td>0</td>\n",
       "      <td>0</td>\n",
       "      <td>0</td>\n",
       "      <td>...</td>\n",
       "      <td>0</td>\n",
       "      <td>0</td>\n",
       "      <td>0</td>\n",
       "      <td>0</td>\n",
       "      <td>0</td>\n",
       "      <td>1</td>\n",
       "      <td>0</td>\n",
       "      <td>0</td>\n",
       "      <td>0</td>\n",
       "      <td>0</td>\n",
       "    </tr>\n",
       "    <tr>\n",
       "      <th>3</th>\n",
       "      <td>53</td>\n",
       "      <td>0</td>\n",
       "      <td>0</td>\n",
       "      <td>40</td>\n",
       "      <td>0</td>\n",
       "      <td>0</td>\n",
       "      <td>0</td>\n",
       "      <td>1</td>\n",
       "      <td>0</td>\n",
       "      <td>0</td>\n",
       "      <td>...</td>\n",
       "      <td>0</td>\n",
       "      <td>0</td>\n",
       "      <td>0</td>\n",
       "      <td>0</td>\n",
       "      <td>1</td>\n",
       "      <td>0</td>\n",
       "      <td>0</td>\n",
       "      <td>0</td>\n",
       "      <td>0</td>\n",
       "      <td>0</td>\n",
       "    </tr>\n",
       "    <tr>\n",
       "      <th>4</th>\n",
       "      <td>28</td>\n",
       "      <td>0</td>\n",
       "      <td>0</td>\n",
       "      <td>40</td>\n",
       "      <td>0</td>\n",
       "      <td>0</td>\n",
       "      <td>0</td>\n",
       "      <td>1</td>\n",
       "      <td>0</td>\n",
       "      <td>0</td>\n",
       "      <td>...</td>\n",
       "      <td>0</td>\n",
       "      <td>0</td>\n",
       "      <td>0</td>\n",
       "      <td>0</td>\n",
       "      <td>0</td>\n",
       "      <td>0</td>\n",
       "      <td>0</td>\n",
       "      <td>0</td>\n",
       "      <td>0</td>\n",
       "      <td>1</td>\n",
       "    </tr>\n",
       "  </tbody>\n",
       "</table>\n",
       "<p>5 rows × 57 columns</p>\n",
       "</div>"
      ],
      "text/plain": [
       "   age  capital_gain  capital_loss  hours_per_week  income  \\\n",
       "0   39          2174             0              40       0   \n",
       "1   50             0             0              13       0   \n",
       "2   38             0             0              40       0   \n",
       "3   53             0             0              40       0   \n",
       "4   28             0             0              40       0   \n",
       "\n",
       "   marital_status_ Divorced  marital_status_ Married-AF-spouse  \\\n",
       "0                         0                                  0   \n",
       "1                         0                                  0   \n",
       "2                         1                                  0   \n",
       "3                         0                                  0   \n",
       "4                         0                                  0   \n",
       "\n",
       "   marital_status_ Married-civ-spouse  marital_status_ Married-spouse-absent  \\\n",
       "0                                   0                                      0   \n",
       "1                                   1                                      0   \n",
       "2                                   0                                      0   \n",
       "3                                   1                                      0   \n",
       "4                                   1                                      0   \n",
       "\n",
       "   marital_status_ Never-married  ...  education_ Masters  \\\n",
       "0                              1  ...                   0   \n",
       "1                              0  ...                   0   \n",
       "2                              0  ...                   0   \n",
       "3                              0  ...                   0   \n",
       "4                              0  ...                   0   \n",
       "\n",
       "   education_ Preschool  education_ Prof-school  education_ Some-college  \\\n",
       "0                     0                       0                        0   \n",
       "1                     0                       0                        0   \n",
       "2                     0                       0                        0   \n",
       "3                     0                       0                        0   \n",
       "4                     0                       0                        0   \n",
       "\n",
       "   relationship_ Husband  relationship_ Not-in-family  \\\n",
       "0                      0                            1   \n",
       "1                      1                            0   \n",
       "2                      0                            1   \n",
       "3                      1                            0   \n",
       "4                      0                            0   \n",
       "\n",
       "   relationship_ Other-relative  relationship_ Own-child  \\\n",
       "0                             0                        0   \n",
       "1                             0                        0   \n",
       "2                             0                        0   \n",
       "3                             0                        0   \n",
       "4                             0                        0   \n",
       "\n",
       "   relationship_ Unmarried  relationship_ Wife  \n",
       "0                        0                   0  \n",
       "1                        0                   0  \n",
       "2                        0                   0  \n",
       "3                        0                   0  \n",
       "4                        0                   1  \n",
       "\n",
       "[5 rows x 57 columns]"
      ]
     },
     "execution_count": 35,
     "metadata": {},
     "output_type": "execute_result"
    }
   ],
   "source": [
    "df_encoded.head()"
   ]
  },
  {
   "cell_type": "code",
   "execution_count": 36,
   "id": "af9864d6",
   "metadata": {},
   "outputs": [
    {
     "data": {
      "text/plain": [
       "0        0\n",
       "1        0\n",
       "2        0\n",
       "3        0\n",
       "4        0\n",
       "        ..\n",
       "32556    0\n",
       "32557    1\n",
       "32558    0\n",
       "32559    0\n",
       "32560    1\n",
       "Name: income, Length: 30162, dtype: int64"
      ]
     },
     "execution_count": 36,
     "metadata": {},
     "output_type": "execute_result"
    }
   ],
   "source": [
    "df_encoded['income']"
   ]
  },
  {
   "cell_type": "markdown",
   "id": "bbaa69ed",
   "metadata": {},
   "source": [
    "# Split the data into features (X) and the target variable (y)\n"
   ]
  },
  {
   "cell_type": "code",
   "execution_count": 37,
   "id": "e2a752d9",
   "metadata": {},
   "outputs": [
    {
     "name": "stdout",
     "output_type": "stream",
     "text": [
      "Training data shape (X, y): (24129, 56) (24129,)\n",
      "Testing data shape (X, y): (6033, 56) (6033,)\n"
     ]
    }
   ],
   "source": [
    "from sklearn.model_selection import train_test_split\n",
    "\n",
    "X = df_encoded.drop(['income'], axis=1)\n",
    "y = df_encoded['income']\n",
    "\n",
    "# Split the data into a training set and a testing set ( 80% training, 20% testing)\n",
    "X_train, X_test, y_train, y_test = train_test_split(X, y, test_size=0.2, random_state=42)\n",
    "\n",
    "# Check the shape of the training and testing sets\n",
    "print(\"Training data shape (X, y):\", X_train.shape, y_train.shape)\n",
    "print(\"Testing data shape (X, y):\", X_test.shape, y_test.shape)"
   ]
  },
  {
   "cell_type": "code",
   "execution_count": 38,
   "id": "97780cf1",
   "metadata": {},
   "outputs": [],
   "source": [
    "from imblearn.over_sampling import SMOTE\n",
    "# Instantiate the SMOTE resampler\n",
    "smote = SMOTE(random_state=42)\n",
    "\n",
    "# Apply SMOTE to the training data\n",
    "X_resampled, y_resampled = smote.fit_resample(X_train, y_train)\n"
   ]
  },
  {
   "cell_type": "code",
   "execution_count": 39,
   "id": "903897de",
   "metadata": {},
   "outputs": [
    {
     "name": "stdout",
     "output_type": "stream",
     "text": [
      "Count of each class after SMOTE:\n",
      "0    18151\n",
      "1    18151\n",
      "Name: income, dtype: int64\n"
     ]
    }
   ],
   "source": [
    "y_resampled_counts = pd.Series(y_resampled).value_counts()\n",
    "\n",
    "print(\"Count of each class after SMOTE:\")\n",
    "print(y_resampled_counts)\n"
   ]
  },
  {
   "cell_type": "markdown",
   "id": "f2cf62af",
   "metadata": {},
   "source": [
    "# Initialize the Random Forest classifier\n"
   ]
  },
  {
   "cell_type": "code",
   "execution_count": 40,
   "id": "3b750279",
   "metadata": {},
   "outputs": [
    {
     "name": "stdout",
     "output_type": "stream",
     "text": [
      "Accuracy: 0.8320901707276646\n",
      "Confusion Matrix:\n",
      " [[3987  516]\n",
      " [ 497 1033]]\n",
      "Classification Report:\n",
      "               precision    recall  f1-score   support\n",
      "\n",
      "           0       0.89      0.89      0.89      4503\n",
      "           1       0.67      0.68      0.67      1530\n",
      "\n",
      "    accuracy                           0.83      6033\n",
      "   macro avg       0.78      0.78      0.78      6033\n",
      "weighted avg       0.83      0.83      0.83      6033\n",
      "\n"
     ]
    }
   ],
   "source": [
    "from sklearn.ensemble import RandomForestClassifier\n",
    "from sklearn.metrics import accuracy_score, classification_report, confusion_matrix\n",
    "\n",
    "rf_classifier = RandomForestClassifier(n_estimators=100, random_state=42)\n",
    "rf_classifier.fit(X_resampled, y_resampled)\n",
    "\n",
    "# Make predictions on the test data\n",
    "y_pred = rf_classifier.predict(X_test)\n",
    "\n",
    "# Evaluate the model\n",
    "rand_accuracy = accuracy_score(y_test, y_pred)\n",
    "conf_matrix = confusion_matrix(y_test, y_pred)\n",
    "classification_rep = classification_report(y_test, y_pred)\n",
    "\n",
    "print(f\"Accuracy: {rand_accuracy}\")\n",
    "print(\"Confusion Matrix:\\n\", conf_matrix)\n",
    "print(\"Classification Report:\\n\", classification_rep)\n"
   ]
  },
  {
   "cell_type": "markdown",
   "id": "9a097300",
   "metadata": {},
   "source": [
    "# 1. Accuracy:\n",
    "\n",
    "The accuracy of the model is approximately 84.18%. This means that the model correctly predicted the income level (<=50K or >50K) for 84.18% of the instances in the test dataset.\n",
    "\n"
   ]
  },
  {
   "cell_type": "markdown",
   "id": "666a6d28",
   "metadata": {},
   "source": [
    "# 2. Confusion Matrix: \n",
    "    \n",
    "- True Positives (TP): The number of instances that were correctly predicted as \"income >50K.\"\n",
    "\n",
    "- True Negatives (TN): The number of instances that were correctly predicted as \"income <=50K.\"\n",
    "\n",
    "- False Positives (FP): The number of instances that were incorrectly predicted as \"income >50K\" (when it's actually <=50K).\n",
    "\n",
    "- False Negatives (FN): The number of instances that were incorrectly predicted as \"income <=50K\" (when it's actually >50K).\n",
    "                                                                                                 \n",
    "In our case:  \n",
    "\n",
    "- True Positives (TP): 988\n",
    "- True Negatives (TN): 4091\n",
    "- False Positives (FP): 412\n",
    "- False Negatives (FN): 542                                                                                                 "
   ]
  },
  {
   "cell_type": "markdown",
   "id": "3d7ed45f",
   "metadata": {},
   "source": [
    "# 3. Precision:\n",
    "    \n",
    "Precision measures the accuracy of positive predictions. In this context, it tells us how many of the instances predicted as \"income >50K\" are correct.    "
   ]
  },
  {
   "cell_type": "markdown",
   "id": "eadf74c7",
   "metadata": {},
   "source": [
    "# 4. Recall: Recall (or sensitivity)\n",
    "    \n",
    "Measures how well the model identifies all positive instances. In this context, it tells us how many of the actual \"income >50K\" instances were correctly predicted. "
   ]
  },
  {
   "cell_type": "markdown",
   "id": "6f1e602a",
   "metadata": {},
   "source": [
    "# 5. F1-Score: \n",
    "    \n",
    "The F1-score is the harmonic mean of precision and recall. It provides a balance between precision and recall. A higher F1-score indicates a better balance between precision and recall. The weighted average of the F1-scores for both classes is approximately 0.84."
   ]
  },
  {
   "cell_type": "markdown",
   "id": "f854f428",
   "metadata": {},
   "source": [
    "# 6. Support: \n",
    "    \n",
    "Support is the number of actual occurrences of each class in the test dataset. It's useful for understanding the distribution of classes in the test dataset."
   ]
  },
  {
   "cell_type": "markdown",
   "id": "ec49bb91",
   "metadata": {},
   "source": [
    "# In summary:\n",
    "\n",
    "- Overall, the model performs reasonably well with a good balance between precision and recall.\n",
    "\n",
    "- It correctly identifies people with lower incomes (class 0) with high precision and recall. For people with higher incomes (class 1), precision is lower, indicating some false positives, but recall is also lower, indicating some false negatives. \n",
    "\n",
    "\n",
    "\n"
   ]
  },
  {
   "cell_type": "code",
   "execution_count": null,
   "id": "44cb01a8",
   "metadata": {},
   "outputs": [],
   "source": []
  },
  {
   "cell_type": "markdown",
   "id": "24d8aa1a",
   "metadata": {},
   "source": [
    "# Creating an SVM classifier\n"
   ]
  },
  {
   "cell_type": "code",
   "execution_count": 41,
   "id": "53662648",
   "metadata": {},
   "outputs": [],
   "source": [
    "from sklearn.svm import SVC"
   ]
  },
  {
   "cell_type": "code",
   "execution_count": 42,
   "id": "bae0f1f4",
   "metadata": {},
   "outputs": [
    {
     "name": "stdout",
     "output_type": "stream",
     "text": [
      "Accuracy: 0.793966517487154\n",
      "Confusion Matrix:\n",
      " [[4322  181]\n",
      " [1062  468]]\n",
      "Classification Report:\n",
      "               precision    recall  f1-score   support\n",
      "\n",
      "           0       0.80      0.96      0.87      4503\n",
      "           1       0.72      0.31      0.43      1530\n",
      "\n",
      "    accuracy                           0.79      6033\n",
      "   macro avg       0.76      0.63      0.65      6033\n",
      "weighted avg       0.78      0.79      0.76      6033\n",
      "\n"
     ]
    }
   ],
   "source": [
    "svm_classifier = SVC()\n",
    "\n",
    "svm_classifier.fit(X_resampled, y_resampled)\n",
    "\n",
    "svm_predictions = svm_classifier.predict(X_test)\n",
    "\n",
    "# Evaluate the model\n",
    "svm_accuracy = accuracy_score(y_test, svm_predictions)\n",
    "svm_confusion_matrix = confusion_matrix(y_test, svm_predictions)\n",
    "svm_classification_report = classification_report(y_test, svm_predictions)\n",
    "\n",
    "print(\"Accuracy:\", svm_accuracy)\n",
    "print(\"Confusion Matrix:\\n\", svm_confusion_matrix)\n",
    "print(\"Classification Report:\\n\", svm_classification_report)"
   ]
  },
  {
   "cell_type": "markdown",
   "id": "e1f94a61",
   "metadata": {},
   "source": [
    "# Summary:\n",
    "\n",
    "- Overall, the Random Forest model outperforms the SVM model in terms of accuracy, precision, recall, and F1-score, especially for identifying individuals with higher incomes (class 1). The SVM model has a higher recall for class 0 but struggles with class 1, resulting in a lower F1-score.\n",
    "  "
   ]
  },
  {
   "cell_type": "markdown",
   "id": "69ccc369",
   "metadata": {},
   "source": [
    "# Creating a Gradient Boosting Classifier\n"
   ]
  },
  {
   "cell_type": "code",
   "execution_count": 43,
   "id": "d17738f5",
   "metadata": {},
   "outputs": [],
   "source": [
    "from sklearn.ensemble import GradientBoostingClassifier"
   ]
  },
  {
   "cell_type": "code",
   "execution_count": 44,
   "id": "0f6feb03",
   "metadata": {},
   "outputs": [
    {
     "name": "stdout",
     "output_type": "stream",
     "text": [
      "Gradient Boosting Classifier Results:\n",
      "Accuracy: 0.8322559257417537\n",
      "Confusion Matrix:\n",
      " [[3791  712]\n",
      " [ 300 1230]]\n",
      "Classification Report:\n",
      "               precision    recall  f1-score   support\n",
      "\n",
      "           0       0.93      0.84      0.88      4503\n",
      "           1       0.63      0.80      0.71      1530\n",
      "\n",
      "    accuracy                           0.83      6033\n",
      "   macro avg       0.78      0.82      0.80      6033\n",
      "weighted avg       0.85      0.83      0.84      6033\n",
      "\n"
     ]
    }
   ],
   "source": [
    "gb_classifier = GradientBoostingClassifier()\n",
    "\n",
    "gb_classifier = GradientBoostingClassifier(n_estimators=100, random_state=42)\n",
    "\n",
    "gb_classifier.fit(X_resampled, y_resampled)\n",
    "\n",
    "# Make predictions\n",
    "gb_predictions = gb_classifier.predict(X_test)\n",
    "\n",
    "# Calculate accuracy\n",
    "gb_accuracy = accuracy_score(y_test, gb_predictions)\n",
    "\n",
    "# Calculate confusion matrix\n",
    "gb_confusion_matrix = confusion_matrix(y_test, gb_predictions)\n",
    "\n",
    "# Generate a classification report\n",
    "gb_classification_report = classification_report(y_test, gb_predictions)\n",
    "\n",
    "# Print the results\n",
    "print(\"Gradient Boosting Classifier Results:\")\n",
    "print(f\"Accuracy: {gb_accuracy}\")\n",
    "print(\"Confusion Matrix:\\n\", gb_confusion_matrix)\n",
    "print(\"Classification Report:\\n\", gb_classification_report)"
   ]
  },
  {
   "cell_type": "markdown",
   "id": "dc1c18e1",
   "metadata": {},
   "source": [
    "# Summary :\n",
    "    \n",
    "- The Gradient Boosting model outperforms both the Random Forest and SVM models in terms of accuracy. It has an accuracy of approximately 86.54%, which is higher than the Random Forest (84.19%) and SVM (79.73%).\n",
    "\n",
    "\n",
    "- The recall for class 0 is high in the Gradient Boosting model (0.95), indicating that it correctly identifies individuals with lower incomes. However, the recall for class 1 is lower (0.61), indicating that it struggles to correctly identify individuals with higher incomes.\n",
    "\n"
   ]
  },
  {
   "cell_type": "markdown",
   "id": "bdaabf98",
   "metadata": {},
   "source": [
    "# Creating a Logistic Regression model\n"
   ]
  },
  {
   "cell_type": "code",
   "execution_count": 45,
   "id": "506c6ca8",
   "metadata": {},
   "outputs": [],
   "source": [
    "from sklearn.linear_model import LogisticRegression\n"
   ]
  },
  {
   "cell_type": "code",
   "execution_count": 46,
   "id": "438843d1",
   "metadata": {},
   "outputs": [
    {
     "name": "stdout",
     "output_type": "stream",
     "text": [
      "Logistic Regression Results:\n",
      "Accuracy: 0.8355710260235372\n",
      "Confusion Matrix:\n",
      " [[3936  567]\n",
      " [ 425 1105]]\n",
      "Classification Report:\n",
      "               precision    recall  f1-score   support\n",
      "\n",
      "           0       0.90      0.87      0.89      4503\n",
      "           1       0.66      0.72      0.69      1530\n",
      "\n",
      "    accuracy                           0.84      6033\n",
      "   macro avg       0.78      0.80      0.79      6033\n",
      "weighted avg       0.84      0.84      0.84      6033\n",
      "\n"
     ]
    },
    {
     "name": "stderr",
     "output_type": "stream",
     "text": [
      "C:\\Users\\darsh\\anaconda3\\lib\\site-packages\\sklearn\\linear_model\\_logistic.py:444: ConvergenceWarning: lbfgs failed to converge (status=1):\n",
      "STOP: TOTAL NO. of ITERATIONS REACHED LIMIT.\n",
      "\n",
      "Increase the number of iterations (max_iter) or scale the data as shown in:\n",
      "    https://scikit-learn.org/stable/modules/preprocessing.html\n",
      "Please also refer to the documentation for alternative solver options:\n",
      "    https://scikit-learn.org/stable/modules/linear_model.html#logistic-regression\n",
      "  n_iter_i = _check_optimize_result(\n"
     ]
    }
   ],
   "source": [
    "lr_classifier = LogisticRegression(max_iter=1000)\n",
    "\n",
    "lr_classifier.fit(X_resampled, y_resampled)\n",
    "\n",
    "# Make predictions\n",
    "lr_predictions = lr_classifier.predict(X_test)\n",
    "\n",
    "# Calculate accuracy\n",
    "lr_accuracy = accuracy_score(y_test, lr_predictions)\n",
    "\n",
    "# Calculate confusion matrix\n",
    "lr_confusion_matrix = confusion_matrix(y_test, lr_predictions)\n",
    "\n",
    "# Generate classification report\n",
    "lr_classification_report = classification_report(y_test, lr_predictions)\n",
    "\n",
    "# Print the results\n",
    "print(\"Logistic Regression Results:\")\n",
    "print(f\"Accuracy: {lr_accuracy}\")\n",
    "print(\"Confusion Matrix:\\n\", lr_confusion_matrix)\n",
    "print(\"Classification Report:\\n\", lr_classification_report)"
   ]
  },
  {
   "cell_type": "markdown",
   "id": "af6b14ee",
   "metadata": {},
   "source": [
    "# Summary :\n",
    "\n",
    "- The Logistic Regression model achieves an accuracy of approximately 85.05%, which is competitive with the Random Forest (84.19%) and SVM (79.73%) models but slightly lower than the Gradient Boosting model (86.54%).\n",
    "\n",
    "- The recall for class 0 is high (0.93), indicating that the Logistic Regression model correctly identifies individuals with lower incomes. However, the recall for class 1 is lower (0.61), suggesting some challenges in identifying individuals with higher incomes.\n",
    "\n",
    "- The Logistic Regression model falls between the Random Forest and Gradient Boosting in terms of precision and recall, with a reasonable balance between the two."
   ]
  },
  {
   "cell_type": "markdown",
   "id": "0f32fc9b",
   "metadata": {},
   "source": [
    "# Creating a KNN classifier\n"
   ]
  },
  {
   "cell_type": "code",
   "execution_count": 47,
   "id": "f333671d",
   "metadata": {},
   "outputs": [
    {
     "name": "stdout",
     "output_type": "stream",
     "text": [
      "K-Nearest Neighbors (KNN) Classifier Results:\n",
      "Accuracy: 0.7768937510359688\n",
      "Confusion Matrix:\n",
      " [[3417 1086]\n",
      " [ 260 1270]]\n",
      "Classification Report:\n",
      "               precision    recall  f1-score   support\n",
      "\n",
      "           0       0.93      0.76      0.84      4503\n",
      "           1       0.54      0.83      0.65      1530\n",
      "\n",
      "    accuracy                           0.78      6033\n",
      "   macro avg       0.73      0.79      0.74      6033\n",
      "weighted avg       0.83      0.78      0.79      6033\n",
      "\n"
     ]
    }
   ],
   "source": [
    "from sklearn.neighbors import KNeighborsClassifier\n",
    "\n",
    "knn_classifier = KNeighborsClassifier()\n",
    "\n",
    "knn_classifier.fit(X_resampled, y_resampled)\n",
    "\n",
    "# Make predictions on the test data\n",
    "knn_predictions = knn_classifier.predict(X_test)\n",
    "\n",
    "# Evaluate the KNN model\n",
    "knn_accuracy = accuracy_score(y_test, knn_predictions)\n",
    "knn_confusion_matrix = confusion_matrix(y_test, knn_predictions)\n",
    "knn_classification_report = classification_report(y_test, knn_predictions)\n",
    "\n",
    "# Print the results\n",
    "print(\"K-Nearest Neighbors (KNN) Classifier Results:\")\n",
    "print(f\"Accuracy: {knn_accuracy}\")\n",
    "print(\"Confusion Matrix:\\n\", knn_confusion_matrix)\n",
    "print(\"Classification Report:\\n\", knn_classification_report)"
   ]
  },
  {
   "cell_type": "markdown",
   "id": "dbc171fa",
   "metadata": {},
   "source": [
    "# Summary :\n",
    "\n",
    "- The KNN Classifier model achieves an accuracy of approximately 83.61%, which is competitive with the Logistic Regression (85.05%) and Random Forest (84.19%) models but slightly lower than the Gradient Boosting (86.54%) model.\n",
    "\n",
    "- The recall for class 0 is high (0.90), indicating that the KNN model correctly identifies individuals with lower incomes. However, the recall for class 1 is lower (0.64), suggesting some challenges in identifying individuals with higher income\n",
    "\n",
    " "
   ]
  },
  {
   "cell_type": "markdown",
   "id": "3963d66c",
   "metadata": {},
   "source": [
    "# Having an visualization comparision on how the models are performing"
   ]
  },
  {
   "cell_type": "code",
   "execution_count": 48,
   "id": "978a5705",
   "metadata": {},
   "outputs": [
    {
     "data": {
      "image/png": "[encoded data removed]",
      "text/plain": [
       "<Figure size 720x432 with 1 Axes>"
      ]
     },
     "metadata": {},
     "output_type": "display_data"
    }
   ],
   "source": [
    "# Define the model names and their corresponding accuracies\n",
    "model_names = [\"Random Forest\", \"Gradient Boosting\", \"SVM\", \"Logistic Regression\", \"K-Nearest Neighbors\"]\n",
    "accuracies = [rand_accuracy, gb_accuracy, svm_accuracy, lr_accuracy, knn_accuracy]  # Replace 0.0 with the accuracy of your other model\n",
    "\n",
    "# Create a horizontal bar plot to visualize model accuracies\n",
    "plt.figure(figsize=(10, 6))\n",
    "plt.barh(model_names, accuracies, color='skyblue')\n",
    "plt.xlabel('Accuracy')\n",
    "plt.ylabel('Model')\n",
    "plt.title('Model Comparison')\n",
    "plt.xlim(0.7, 1.0)\n",
    "\n",
    "# Display the accuracy scores on the right of the bars\n",
    "for i, accuracy in enumerate(accuracies):\n",
    "    plt.text(accuracy, i, f'{accuracy:.3f}', va='center', fontsize=12)\n",
    "\n",
    "plt.tight_layout()\n",
    "plt.show()\n"
   ]
  },
  {
   "cell_type": "code",
   "execution_count": null,
   "id": "20d82cf7",
   "metadata": {},
   "outputs": [],
   "source": []
  },
  {
   "cell_type": "code",
   "execution_count": 49,
   "id": "ab2cc6ea",
   "metadata": {},
   "outputs": [
    {
     "name": "stdout",
     "output_type": "stream",
     "text": [
      "Best Hyperparameters: {'max_depth': 30, 'min_samples_leaf': 1, 'min_samples_split': 5, 'n_estimators': 300}\n"
     ]
    }
   ],
   "source": [
    "from sklearn.model_selection import GridSearchCV\n",
    "\n",
    "# Define the hyperparameters and their possible values\n",
    "param_grid = {\n",
    "    'n_estimators': [100, 200, 300],\n",
    "    'max_depth': [10, 20, 30],\n",
    "    'min_samples_split': [2, 5, 10],\n",
    "    'min_samples_leaf': [1, 2, 4],\n",
    "}\n",
    "\n",
    "# Create a Random Forest Classifier\n",
    "rf_classifier = RandomForestClassifier(random_state=42)\n",
    "\n",
    "# Perform Grid Search\n",
    "grid_search = GridSearchCV(estimator=rf_classifier, param_grid=param_grid, \n",
    "                           scoring='f1', cv=5, n_jobs=-1)\n",
    "grid_search.fit(X_resampled, y_resampled)\n",
    "\n",
    "# Get the best parameters and model\n",
    "best_params = grid_search.best_params_\n",
    "best_rf_classifier = grid_search.best_estimator_\n",
    "\n",
    "print(\"Best Hyperparameters:\", best_params)"
   ]
  },
  {
   "cell_type": "code",
   "execution_count": 50,
   "id": "ebe7a19b",
   "metadata": {},
   "outputs": [
    {
     "name": "stdout",
     "output_type": "stream",
     "text": [
      "Best Hyperparameters: {'max_depth': 30, 'min_samples_leaf': 1, 'min_samples_split': 5, 'n_estimators': 300}\n",
      "Accuracy: 0.8465108569534229\n",
      "Confusion Matrix:\n",
      " [[3971  532]\n",
      " [ 394 1136]]\n",
      "Classification Report:\n",
      "               precision    recall  f1-score   support\n",
      "\n",
      "           0       0.91      0.88      0.90      4503\n",
      "           1       0.68      0.74      0.71      1530\n",
      "\n",
      "    accuracy                           0.85      6033\n",
      "   macro avg       0.80      0.81      0.80      6033\n",
      "weighted avg       0.85      0.85      0.85      6033\n",
      "\n"
     ]
    }
   ],
   "source": [
    "# Perform Grid Search\n",
    "grid_search = GridSearchCV(estimator=rf_classifier, param_grid=param_grid, \n",
    "                           scoring='f1', cv=5, n_jobs=-1)\n",
    "grid_search.fit(X_resampled, y_resampled)\n",
    "\n",
    "# Get the best parameters and model\n",
    "best_params = grid_search.best_params_\n",
    "best_rf_classifier = grid_search.best_estimator_\n",
    "\n",
    "print(\"Best Hyperparameters:\", best_params)\n",
    "\n",
    "# Create the Random Forest Classifier with the best hyperparameters\n",
    "best_rf_classifier = RandomForestClassifier(n_estimators=best_params['n_estimators'],\n",
    "                                            max_depth=best_params['max_depth'],\n",
    "                                            min_samples_split=best_params['min_samples_split'],\n",
    "                                            min_samples_leaf=best_params['min_samples_leaf'],\n",
    "                                            random_state=42)\n",
    "\n",
    "# Fit the model with the resampled data\n",
    "best_rf_classifier.fit(X_resampled, y_resampled)\n",
    "\n",
    "# Make predictions on the test data\n",
    "y_pred = best_rf_classifier.predict(X_test)\n",
    "\n",
    "# Evaluate the model\n",
    "rand_accuracy = accuracy_score(y_test, y_pred)\n",
    "conf_matrix = confusion_matrix(y_test, y_pred)\n",
    "classification_rep = classification_report(y_test, y_pred)\n",
    "\n",
    "print(f\"Accuracy: {rand_accuracy}\")\n",
    "print(\"Confusion Matrix:\\n\", conf_matrix)\n",
    "print(\"Classification Report:\\n\", classification_rep)"
   ]
  },
  {
   "cell_type": "code",
   "execution_count": 51,
   "id": "55f98a3d",
   "metadata": {},
   "outputs": [
    {
     "data": {
      "image/png": "[encoded data removed]",
      "text/plain": [
       "<Figure size 432x288 with 1 Axes>"
      ]
     },
     "metadata": {},
     "output_type": "display_data"
    }
   ],
   "source": [
    "import matplotlib.pyplot as plt\n",
    "\n",
    "# Previous Model Metrics\n",
    "accuracy_before = 83.37\n",
    "f1_score_before = 67\n",
    "\n",
    "# Optimized Model Metrics\n",
    "accuracy_after = 84.65\n",
    "f1_score_after = 71\n",
    "\n",
    "# Labels and Values for the Bar Chart\n",
    "labels = ['Accuracy', 'F1 Score (Income >50K)']\n",
    "values_before = [accuracy_before, f1_score_before]\n",
    "values_after = [accuracy_after, f1_score_after]\n",
    "\n",
    "# Bar Width\n",
    "bar_width = 0.35\n",
    "\n",
    "# Bar Chart\n",
    "fig, ax = plt.subplots()\n",
    "bar1 = ax.bar(labels, values_before, bar_width, label='Before Tuning')\n",
    "bar2 = ax.bar(labels, values_after, bar_width, label='After Tuning', bottom=values_before)\n",
    "\n",
    "# Add labels, title, and legend\n",
    "ax.set_ylabel('Metrics')\n",
    "ax.set_title('Impact of Hyperparameter Tuning on Model Performance')\n",
    "ax.legend()\n",
    "\n",
    "# Show the bar chart\n",
    "plt.show()\n"
   ]
  },
  {
   "cell_type": "code",
   "execution_count": 52,
   "id": "2a968ee8",
   "metadata": {},
   "outputs": [
    {
     "name": "stdout",
     "output_type": "stream",
     "text": [
      "Gradient Boosting - Best Hyperparameters: {'learning_rate': 0.2, 'max_depth': 5, 'min_samples_leaf': 2, 'min_samples_split': 10, 'n_estimators': 200}\n",
      "Gradient Boosting - Accuracy: 0.8564561577987734\n",
      "Gradient Boosting - Confusion Matrix:\n",
      " [[4015  488]\n",
      " [ 378 1152]]\n",
      "Gradient Boosting - Classification Report:\n",
      "               precision    recall  f1-score   support\n",
      "\n",
      "           0       0.91      0.89      0.90      4503\n",
      "           1       0.70      0.75      0.73      1530\n",
      "\n",
      "    accuracy                           0.86      6033\n",
      "   macro avg       0.81      0.82      0.81      6033\n",
      "weighted avg       0.86      0.86      0.86      6033\n",
      "\n"
     ]
    }
   ],
   "source": [
    "# Define hyperparameters and their possible values for Gradient Boosting\n",
    "gb_param_grid = {\n",
    "    'n_estimators': [100, 200, 300],\n",
    "    'learning_rate': [0.01, 0.1, 0.2],\n",
    "    'max_depth': [3, 4, 5],\n",
    "    'min_samples_split': [2, 5, 10],\n",
    "    'min_samples_leaf': [1, 2, 4],\n",
    "}\n",
    "\n",
    "# Create a Gradient Boosting Classifier\n",
    "gb_classifier = GradientBoostingClassifier(random_state=42)\n",
    "\n",
    "# Perform Grid Search for Gradient Boosting\n",
    "gb_grid_search = GridSearchCV(estimator=gb_classifier, param_grid=gb_param_grid, \n",
    "                              scoring='f1', cv=5, n_jobs=-1)\n",
    "gb_grid_search.fit(X_resampled, y_resampled)\n",
    "\n",
    "# Get the best parameters and model for Gradient Boosting\n",
    "best_gb_params = gb_grid_search.best_params_\n",
    "best_gb_classifier = gb_grid_search.best_estimator_\n",
    "\n",
    "# Train and evaluate the Gradient Boosting model\n",
    "best_gb_classifier.fit(X_resampled, y_resampled)\n",
    "y_gb_pred = best_gb_classifier.predict(X_test)\n",
    "gb_accuracy = accuracy_score(y_test, y_gb_pred)\n",
    "gb_confusion_matrix = confusion_matrix(y_test, y_gb_pred)\n",
    "gb_classification_report = classification_report(y_test, y_gb_pred)\n",
    "\n",
    "# Print the results for Gradient Boosting\n",
    "print(\"Gradient Boosting - Best Hyperparameters:\", best_gb_params)\n",
    "print(\"Gradient Boosting - Accuracy:\", gb_accuracy)\n",
    "print(\"Gradient Boosting - Confusion Matrix:\\n\", gb_confusion_matrix)\n",
    "print(\"Gradient Boosting - Classification Report:\\n\", gb_classification_report)"
   ]
  },
  {
   "cell_type": "code",
   "execution_count": 53,
   "id": "c9a01c6b",
   "metadata": {},
   "outputs": [
    {
     "name": "stderr",
     "output_type": "stream",
     "text": [
      "C:\\Users\\darsh\\anaconda3\\lib\\site-packages\\sklearn\\model_selection\\_validation.py:378: FitFailedWarning: \n",
      "30 fits failed out of a total of 60.\n",
      "The score on these train-test partitions for these parameters will be set to nan.\n",
      "If these failures are not expected, you can try to debug them by setting error_score='raise'.\n",
      "\n",
      "Below are more details about the failures:\n",
      "--------------------------------------------------------------------------------\n",
      "30 fits failed with the following error:\n",
      "Traceback (most recent call last):\n",
      "  File \"C:\\Users\\darsh\\anaconda3\\lib\\site-packages\\sklearn\\model_selection\\_validation.py\", line 686, in _fit_and_score\n",
      "    estimator.fit(X_train, y_train, **fit_params)\n",
      "  File \"C:\\Users\\darsh\\anaconda3\\lib\\site-packages\\sklearn\\linear_model\\_logistic.py\", line 1091, in fit\n",
      "    solver = _check_solver(self.solver, self.penalty, self.dual)\n",
      "  File \"C:\\Users\\darsh\\anaconda3\\lib\\site-packages\\sklearn\\linear_model\\_logistic.py\", line 61, in _check_solver\n",
      "    raise ValueError(\n",
      "ValueError: Solver lbfgs supports only 'l2' or 'none' penalties, got l1 penalty.\n",
      "\n",
      "  warnings.warn(some_fits_failed_message, FitFailedWarning)\n",
      "C:\\Users\\darsh\\anaconda3\\lib\\site-packages\\sklearn\\model_selection\\_search.py:953: UserWarning: One or more of the test scores are non-finite: [       nan 0.81365373        nan 0.83081214        nan 0.81650963\n",
      "        nan 0.8252954         nan 0.80809633        nan 0.81630841]\n",
      "  warnings.warn(\n",
      "C:\\Users\\darsh\\anaconda3\\lib\\site-packages\\sklearn\\linear_model\\_logistic.py:444: ConvergenceWarning: lbfgs failed to converge (status=1):\n",
      "STOP: TOTAL NO. of ITERATIONS REACHED LIMIT.\n",
      "\n",
      "Increase the number of iterations (max_iter) or scale the data as shown in:\n",
      "    https://scikit-learn.org/stable/modules/preprocessing.html\n",
      "Please also refer to the documentation for alternative solver options:\n",
      "    https://scikit-learn.org/stable/modules/linear_model.html#logistic-regression\n",
      "  n_iter_i = _check_optimize_result(\n"
     ]
    },
    {
     "name": "stdout",
     "output_type": "stream",
     "text": [
      "Logistic Regression - Best Hyperparameters: {'C': 0.01, 'penalty': 'l2'}\n",
      "Logistic Regression - Accuracy: 0.791148682247638\n",
      "Logistic Regression - Confusion Matrix:\n",
      " [[3608  895]\n",
      " [ 365 1165]]\n",
      "Logistic Regression - Classification Report:\n",
      "               precision    recall  f1-score   support\n",
      "\n",
      "           0       0.91      0.80      0.85      4503\n",
      "           1       0.57      0.76      0.65      1530\n",
      "\n",
      "    accuracy                           0.79      6033\n",
      "   macro avg       0.74      0.78      0.75      6033\n",
      "weighted avg       0.82      0.79      0.80      6033\n",
      "\n"
     ]
    },
    {
     "name": "stderr",
     "output_type": "stream",
     "text": [
      "C:\\Users\\darsh\\anaconda3\\lib\\site-packages\\sklearn\\linear_model\\_logistic.py:444: ConvergenceWarning: lbfgs failed to converge (status=1):\n",
      "STOP: TOTAL NO. of ITERATIONS REACHED LIMIT.\n",
      "\n",
      "Increase the number of iterations (max_iter) or scale the data as shown in:\n",
      "    https://scikit-learn.org/stable/modules/preprocessing.html\n",
      "Please also refer to the documentation for alternative solver options:\n",
      "    https://scikit-learn.org/stable/modules/linear_model.html#logistic-regression\n",
      "  n_iter_i = _check_optimize_result(\n"
     ]
    }
   ],
   "source": [
    "# Define hyperparameters and their possible values for Logistic Regression\n",
    "lr_param_grid = {\n",
    "    'C': [0.001, 0.01, 0.1, 1, 10, 100],\n",
    "    'penalty': ['l1', 'l2']\n",
    "}\n",
    "\n",
    "# Create a Logistic Regression model\n",
    "lr_classifier = LogisticRegression(random_state=42)\n",
    "\n",
    "# Perform Grid Search for Logistic Regression\n",
    "lr_grid_search = GridSearchCV(estimator=lr_classifier, param_grid=lr_param_grid, \n",
    "                              scoring='f1', cv=5, n_jobs=-1)\n",
    "lr_grid_search.fit(X_resampled, y_resampled)\n",
    "\n",
    "# Get the best parameters and model for Logistic Regression\n",
    "best_lr_params = lr_grid_search.best_params_\n",
    "best_lr_classifier = lr_grid_search.best_estimator_\n",
    "\n",
    "# Train and evaluate the Logistic Regression model\n",
    "best_lr_classifier.fit(X_resampled, y_resampled)\n",
    "y_lr_pred = best_lr_classifier.predict(X_test)\n",
    "lr_accuracy = accuracy_score(y_test, y_lr_pred)\n",
    "lr_confusion_matrix = confusion_matrix(y_test, y_lr_pred)\n",
    "lr_classification_report = classification_report(y_test, y_lr_pred)\n",
    "\n",
    "# Print the results for Logistic Regression\n",
    "print(\"Logistic Regression - Best Hyperparameters:\", best_lr_params)\n",
    "print(\"Logistic Regression - Accuracy:\", lr_accuracy)\n",
    "print(\"Logistic Regression - Confusion Matrix:\\n\", lr_confusion_matrix)\n",
    "print(\"Logistic Regression - Classification Report:\\n\", lr_classification_report)"
   ]
  },
  {
   "cell_type": "code",
   "execution_count": 54,
   "id": "93404a23",
   "metadata": {},
   "outputs": [
    {
     "name": "stdout",
     "output_type": "stream",
     "text": [
      "Logistic Regression Results:\n",
      "Accuracy: 0.8355710260235372\n",
      "Confusion Matrix:\n",
      " [[3936  567]\n",
      " [ 425 1105]]\n",
      "Classification Report:\n",
      "               precision    recall  f1-score   support\n",
      "\n",
      "           0       0.90      0.87      0.89      4503\n",
      "           1       0.66      0.72      0.69      1530\n",
      "\n",
      "    accuracy                           0.84      6033\n",
      "   macro avg       0.78      0.80      0.79      6033\n",
      "weighted avg       0.84      0.84      0.84      6033\n",
      "\n"
     ]
    },
    {
     "name": "stderr",
     "output_type": "stream",
     "text": [
      "C:\\Users\\darsh\\anaconda3\\lib\\site-packages\\sklearn\\linear_model\\_logistic.py:444: ConvergenceWarning: lbfgs failed to converge (status=1):\n",
      "STOP: TOTAL NO. of ITERATIONS REACHED LIMIT.\n",
      "\n",
      "Increase the number of iterations (max_iter) or scale the data as shown in:\n",
      "    https://scikit-learn.org/stable/modules/preprocessing.html\n",
      "Please also refer to the documentation for alternative solver options:\n",
      "    https://scikit-learn.org/stable/modules/linear_model.html#logistic-regression\n",
      "  n_iter_i = _check_optimize_result(\n"
     ]
    }
   ],
   "source": [
    "lr_classifier = LogisticRegression(max_iter=1000)\n",
    "\n",
    "lr_classifier.fit(X_resampled, y_resampled)\n",
    "\n",
    "# Make predictions\n",
    "lr_predictions = lr_classifier.predict(X_test)\n",
    "\n",
    "# Calculate accuracy\n",
    "lr_accuracy = accuracy_score(y_test, lr_predictions)\n",
    "\n",
    "# Calculate confusion matrix\n",
    "lr_confusion_matrix = confusion_matrix(y_test, lr_predictions)\n",
    "\n",
    "# Generate classification report\n",
    "lr_classification_report = classification_report(y_test, lr_predictions)\n",
    "\n",
    "# Print the results\n",
    "print(\"Logistic Regression Results:\")\n",
    "print(f\"Accuracy: {lr_accuracy}\")\n",
    "print(\"Confusion Matrix:\\n\", lr_confusion_matrix)\n",
    "print(\"Classification Report:\\n\", lr_classification_report)"
   ]
  },
  {
   "cell_type": "code",
   "execution_count": 55,
   "id": "63ec1310",
   "metadata": {},
   "outputs": [
    {
     "name": "stdout",
     "output_type": "stream",
     "text": [
      "Ensemble Accuracy: 0.8352395159953588\n",
      "Ensemble Confusion Matrix:\n",
      " [[3925  578]\n",
      " [ 416 1114]]\n",
      "Ensemble Classification Report:\n",
      "               precision    recall  f1-score   support\n",
      "\n",
      "           0       0.90      0.87      0.89      4503\n",
      "           1       0.66      0.73      0.69      1530\n",
      "\n",
      "    accuracy                           0.84      6033\n",
      "   macro avg       0.78      0.80      0.79      6033\n",
      "weighted avg       0.84      0.84      0.84      6033\n",
      "\n"
     ]
    },
    {
     "name": "stderr",
     "output_type": "stream",
     "text": [
      "C:\\Users\\darsh\\anaconda3\\lib\\site-packages\\sklearn\\linear_model\\_logistic.py:444: ConvergenceWarning: lbfgs failed to converge (status=1):\n",
      "STOP: TOTAL NO. of ITERATIONS REACHED LIMIT.\n",
      "\n",
      "Increase the number of iterations (max_iter) or scale the data as shown in:\n",
      "    https://scikit-learn.org/stable/modules/preprocessing.html\n",
      "Please also refer to the documentation for alternative solver options:\n",
      "    https://scikit-learn.org/stable/modules/linear_model.html#logistic-regression\n",
      "  n_iter_i = _check_optimize_result(\n"
     ]
    }
   ],
   "source": [
    "from sklearn.ensemble import VotingClassifier\n",
    "\n",
    "# Create individual models\n",
    "rf_classifier = RandomForestClassifier(n_estimators=100, random_state=42)\n",
    "logistic_classifier = LogisticRegression()\n",
    "\n",
    "# Create a Voting Classifier (Soft Voting)\n",
    "ensemble_classifier = VotingClassifier(estimators=[\n",
    "    ('rf', rf_classifier), ('logistic', logistic_classifier)\n",
    "], voting='soft')\n",
    "\n",
    "# Fit the ensemble model on the data\n",
    "ensemble_classifier.fit(X_resampled, y_resampled)\n",
    "\n",
    "# Make predictions\n",
    "ensemble_predictions = ensemble_classifier.predict(X_test)\n",
    "\n",
    "# Evaluate the ensemble model\n",
    "ensemble_accuracy = accuracy_score(y_test, ensemble_predictions)\n",
    "ensemble_confusion_matrix = confusion_matrix(y_test, ensemble_predictions)\n",
    "ensemble_classification_report = classification_report(y_test, ensemble_predictions)\n",
    "\n",
    "print(\"Ensemble Accuracy:\", ensemble_accuracy)\n",
    "print(\"Ensemble Confusion Matrix:\\n\", ensemble_confusion_matrix)\n",
    "print(\"Ensemble Classification Report:\\n\", ensemble_classification_report)\n"
   ]
  },
  {
   "cell_type": "code",
   "execution_count": 56,
   "id": "2d95441b",
   "metadata": {},
   "outputs": [
    {
     "name": "stdout",
     "output_type": "stream",
     "text": [
      "Ensemble Accuracy: 0.8423669816011934\n",
      "Ensemble Confusion Matrix:\n",
      " [[3950  553]\n",
      " [ 398 1132]]\n",
      "Ensemble Classification Report:\n",
      "               precision    recall  f1-score   support\n",
      "\n",
      "           0       0.91      0.88      0.89      4503\n",
      "           1       0.67      0.74      0.70      1530\n",
      "\n",
      "    accuracy                           0.84      6033\n",
      "   macro avg       0.79      0.81      0.80      6033\n",
      "weighted avg       0.85      0.84      0.84      6033\n",
      "\n"
     ]
    }
   ],
   "source": [
    "from sklearn.ensemble import RandomForestClassifier, GradientBoostingClassifier, VotingClassifier\n",
    "from sklearn.metrics import accuracy_score, classification_report, confusion_matrix\n",
    "\n",
    "# Create individual models\n",
    "rf_classifier = RandomForestClassifier(n_estimators=100, random_state=42)\n",
    "gb_classifier = GradientBoostingClassifier(n_estimators=100, random_state=42)\n",
    "\n",
    "# Create a Voting Classifier ensemble\n",
    "ensemble_classifier = VotingClassifier(estimators=[('random_forest', rf_classifier), ('gradient_boosting', gb_classifier)], voting='soft')\n",
    "\n",
    "# Fit the ensemble model\n",
    "ensemble_classifier.fit(X_resampled, y_resampled)\n",
    "\n",
    "# Make predictions on the test data\n",
    "y_pred = ensemble_classifier.predict(X_test)\n",
    "\n",
    "# Evaluate the ensemble model\n",
    "ensemble_accuracy = accuracy_score(y_test, y_pred)\n",
    "conf_matrix = confusion_matrix(y_test, y_pred)\n",
    "classification_rep = classification_report(y_test, y_pred)\n",
    "\n",
    "print(\"Ensemble Accuracy:\", ensemble_accuracy)\n",
    "print(\"Ensemble Confusion Matrix:\\n\", conf_matrix)\n",
    "print(\"Ensemble Classification Report:\\n\", classification_rep)\n"
   ]
  },
  {
   "cell_type": "code",
   "execution_count": 57,
   "id": "32ec2614",
   "metadata": {},
   "outputs": [
    {
     "name": "stdout",
     "output_type": "stream",
     "text": [
      "Ensemble Accuracy: 0.8271175203049892\n",
      "Ensemble Confusion Matrix:\n",
      " [[3813  690]\n",
      " [ 353 1177]]\n",
      "Ensemble Classification Report:\n",
      "               precision    recall  f1-score   support\n",
      "\n",
      "           0       0.92      0.85      0.88      4503\n",
      "           1       0.63      0.77      0.69      1530\n",
      "\n",
      "    accuracy                           0.83      6033\n",
      "   macro avg       0.77      0.81      0.79      6033\n",
      "weighted avg       0.84      0.83      0.83      6033\n",
      "\n"
     ]
    },
    {
     "name": "stderr",
     "output_type": "stream",
     "text": [
      "C:\\Users\\darsh\\anaconda3\\lib\\site-packages\\sklearn\\linear_model\\_logistic.py:444: ConvergenceWarning: lbfgs failed to converge (status=1):\n",
      "STOP: TOTAL NO. of ITERATIONS REACHED LIMIT.\n",
      "\n",
      "Increase the number of iterations (max_iter) or scale the data as shown in:\n",
      "    https://scikit-learn.org/stable/modules/preprocessing.html\n",
      "Please also refer to the documentation for alternative solver options:\n",
      "    https://scikit-learn.org/stable/modules/linear_model.html#logistic-regression\n",
      "  n_iter_i = _check_optimize_result(\n"
     ]
    }
   ],
   "source": [
    "\n",
    "# Create the individual models\n",
    "gb_classifier = GradientBoostingClassifier(n_estimators=100, random_state=42)\n",
    "logistic_classifier = LogisticRegression(random_state=42)\n",
    "\n",
    "# Create a voting ensemble of the models\n",
    "ensemble_classifier = VotingClassifier(estimators=[\n",
    "    ('gb', gb_classifier),\n",
    "    ('logistic', logistic_classifier)\n",
    "], voting='soft')\n",
    "\n",
    "ensemble_classifier.fit(X_resampled, y_resampled)\n",
    "\n",
    "# Make predictions on the test data\n",
    "y_pred = ensemble_classifier.predict(X_test)\n",
    "\n",
    "# Evaluate the ensemble model\n",
    "ensemble_accuracy = accuracy_score(y_test, y_pred)\n",
    "conf_matrix = confusion_matrix(y_test, y_pred)\n",
    "classification_rep = classification_report(y_test, y_pred)\n",
    "\n",
    "print(f\"Ensemble Accuracy: {ensemble_accuracy}\")\n",
    "print(\"Ensemble Confusion Matrix:\\n\", conf_matrix)\n",
    "print(\"Ensemble Classification Report:\\n\", classification_rep)\n"
   ]
  },
  {
   "cell_type": "code",
   "execution_count": 58,
   "id": "1e657169",
   "metadata": {},
   "outputs": [
    {
     "data": {
      "image/png": "[encoded data removed]",
      "text/plain": [
       "<Figure size 720x432 with 1 Axes>"
      ]
     },
     "metadata": {},
     "output_type": "display_data"
    }
   ],
   "source": [
    "models = ['Random Forest', 'Gradient Boosting', 'Logistic Regression']\n",
    "accuracy_before = [83.21, 83.23, 83.56]\n",
    "accuracy_after = [84.65, 85.65, 79.11]\n",
    "\n",
    "# Set up the figure and axes\n",
    "fig, ax = plt.subplots(figsize=(10, 6))\n",
    "\n",
    "# Plotting accuracy before hyperparameter tuning\n",
    "ax.bar(np.arange(len(models)) - 0.2, accuracy_before, width=0.4, label='Before Hyperparameter Tuning', color='b')\n",
    "\n",
    "# Plotting accuracy after hyperparameter tuning\n",
    "ax.bar(np.arange(len(models)) + 0.2, accuracy_after, width=0.4, label='After Hyperparameter Tuning', color='g')\n",
    "\n",
    "# Adding labels, title, and legend\n",
    "ax.set_xticks(np.arange(len(models)))\n",
    "ax.set_xticklabels(models)\n",
    "ax.set_ylabel('Accuracy (%)')\n",
    "ax.set_title('Model Performance Before and After Hyperparameter Tuning')\n",
    "ax.legend()\n",
    "\n",
    "# Show the plot\n",
    "plt.tight_layout()\n",
    "plt.show()"
   ]
  },
  {
   "cell_type": "code",
   "execution_count": null,
   "id": "1ab52104",
   "metadata": {},
   "outputs": [],
   "source": []
  }
 ],
 "metadata": {
  "kernelspec": {
   "display_name": "Python 3 (ipykernel)",
   "language": "python",
   "name": "python3"
  },
  "language_info": {
   "codemirror_mode": {
    "name": "ipython",
    "version": 3
   },
   "file_extension": ".py",
   "mimetype": "text/x-python",
   "name": "python",
   "nbconvert_exporter": "python",
   "pygments_lexer": "ipython3",
   "version": "3.9.12"
  }
 },
 "nbformat": 4,
 "nbformat_minor": 5
}
